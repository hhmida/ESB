{
  "nbformat": 4,
  "nbformat_minor": 0,
  "metadata": {
    "colab": {
      "provenance": [],
      "collapsed_sections": [
        "XP3oP9wBEAVU",
        "NjIOdy1aJi56",
        "kuAPowoEOxmu"
      ],
      "authorship_tag": "ABX9TyOr26dq09OtIi7sOAgD/ZtP",
      "include_colab_link": true
    },
    "kernelspec": {
      "name": "python3",
      "display_name": "Python 3"
    },
    "language_info": {
      "name": "python"
    }
  },
  "cells": [
    {
      "cell_type": "markdown",
      "metadata": {
        "id": "view-in-github",
        "colab_type": "text"
      },
      "source": [
        "<a href=\"https://colab.research.google.com/github/hhmida/ESB/blob/main/Exercice_SPARK.ipynb\" target=\"_parent\"><img src=\"https://colab.research.google.com/assets/colab-badge.svg\" alt=\"Open In Colab\"/></a>"
      ]
    },
    {
      "cell_type": "code",
      "execution_count": 1,
      "metadata": {
        "colab": {
          "base_uri": "https://localhost:8080/"
        },
        "id": "2_H_FoPWMtae",
        "outputId": "e38fb3d0-ef14-4c0b-a85a-a7066dfa26e1"
      },
      "outputs": [
        {
          "output_type": "stream",
          "name": "stdout",
          "text": [
            "Looking in indexes: https://pypi.org/simple, https://us-python.pkg.dev/colab-wheels/public/simple/\n",
            "Collecting pyspark\n",
            "  Downloading pyspark-3.3.1.tar.gz (281.4 MB)\n",
            "\u001b[K     |████████████████████████████████| 281.4 MB 43 kB/s \n",
            "\u001b[?25hCollecting py4j==0.10.9.5\n",
            "  Downloading py4j-0.10.9.5-py2.py3-none-any.whl (199 kB)\n",
            "\u001b[K     |████████████████████████████████| 199 kB 53.8 MB/s \n",
            "\u001b[?25hBuilding wheels for collected packages: pyspark\n",
            "  Building wheel for pyspark (setup.py) ... \u001b[?25l\u001b[?25hdone\n",
            "  Created wheel for pyspark: filename=pyspark-3.3.1-py2.py3-none-any.whl size=281845512 sha256=8e2b6f8efe7f22545b040e525b719941d1af2bd754e1df4b19f6b341c2ca808e\n",
            "  Stored in directory: /root/.cache/pip/wheels/43/dc/11/ec201cd671da62fa9c5cc77078235e40722170ceba231d7598\n",
            "Successfully built pyspark\n",
            "Installing collected packages: py4j, pyspark\n",
            "Successfully installed py4j-0.10.9.5 pyspark-3.3.1\n"
          ]
        }
      ],
      "source": [
        "!pip install pyspark"
      ]
    },
    {
      "cell_type": "code",
      "source": [
        "!wget https://hhmida.github.io/tp-spark/assets/vente_export_der_ph_mois.csv\n",
        "!wget https://hhmida.github.io/tp-spark/assets/prod_der_phosphate_mois.csv"
      ],
      "metadata": {
        "colab": {
          "base_uri": "https://localhost:8080/"
        },
        "id": "aDiSIZbdMyu-",
        "outputId": "02d10433-91e8-4735-f7fb-f8caa16204b9"
      },
      "execution_count": 2,
      "outputs": [
        {
          "output_type": "stream",
          "name": "stdout",
          "text": [
            "--2022-12-12 13:33:02--  https://hhmida.github.io/tp-spark/assets/vente_export_der_ph_mois.csv\n",
            "Resolving hhmida.github.io (hhmida.github.io)... 185.199.108.153, 185.199.109.153, 185.199.110.153, ...\n",
            "Connecting to hhmida.github.io (hhmida.github.io)|185.199.108.153|:443... connected.\n",
            "HTTP request sent, awaiting response... 200 OK\n",
            "Length: 6039 (5.9K) [text/csv]\n",
            "Saving to: ‘vente_export_der_ph_mois.csv’\n",
            "\n",
            "\r          vente_exp   0%[                    ]       0  --.-KB/s               \rvente_export_der_ph 100%[===================>]   5.90K  --.-KB/s    in 0s      \n",
            "\n",
            "2022-12-12 13:33:02 (71.2 MB/s) - ‘vente_export_der_ph_mois.csv’ saved [6039/6039]\n",
            "\n",
            "--2022-12-12 13:33:03--  https://hhmida.github.io/tp-spark/assets/prod_der_phosphate_mois.csv\n",
            "Resolving hhmida.github.io (hhmida.github.io)... 185.199.108.153, 185.199.109.153, 185.199.110.153, ...\n",
            "Connecting to hhmida.github.io (hhmida.github.io)|185.199.108.153|:443... connected.\n",
            "HTTP request sent, awaiting response... 200 OK\n",
            "Length: 7434 (7.3K) [text/csv]\n",
            "Saving to: ‘prod_der_phosphate_mois.csv’\n",
            "\n",
            "prod_der_phosphate_ 100%[===================>]   7.26K  --.-KB/s    in 0s      \n",
            "\n",
            "2022-12-12 13:33:03 (82.0 MB/s) - ‘prod_der_phosphate_mois.csv’ saved [7434/7434]\n",
            "\n"
          ]
        }
      ]
    },
    {
      "cell_type": "code",
      "source": [
        "from pyspark.sql import SparkSession\n",
        "from pyspark import SparkContext\n",
        "spark =  SparkSession.builder.appName('Exercice Spark').getOrCreate()\n",
        "sc = spark.sparkContext"
      ],
      "metadata": {
        "id": "XUmCeszXM8g4"
      },
      "execution_count": 3,
      "outputs": []
    },
    {
      "cell_type": "code",
      "source": [
        "from itertools import islice"
      ],
      "metadata": {
        "id": "v0XQGLp0ONT0"
      },
      "execution_count": 4,
      "outputs": []
    },
    {
      "cell_type": "code",
      "source": [
        "rddP = sc.textFile('prod_der_phosphate_mois.csv').cache()\n",
        "rddP = rddP.mapPartitionsWithIndex(lambda idx, iter: islice(iter,1,None) if (idx == 0) else iter)\n"
      ],
      "metadata": {
        "id": "sk2uy_4dNidV"
      },
      "execution_count": 5,
      "outputs": []
    },
    {
      "cell_type": "code",
      "source": [
        "rddV = sc.textFile('vente_export_der_ph_mois.csv').cache()\n",
        "rddV = rddV.mapPartitionsWithIndex(lambda idx, iter: islice(iter,1,None) if (idx == 0) else iter)"
      ],
      "metadata": {
        "id": "F9hNQVgON0st"
      },
      "execution_count": 6,
      "outputs": []
    },
    {
      "cell_type": "markdown",
      "source": [
        "# Q2.a"
      ],
      "metadata": {
        "id": "44N3_sDS86n1"
      }
    },
    {
      "cell_type": "code",
      "source": [
        "def transformer(l):\n",
        "  T=l.split(';')\n",
        "  return int(T[0]),T[-1]"
      ],
      "metadata": {
        "id": "ANDqHg35QIUV"
      },
      "execution_count": null,
      "outputs": []
    },
    {
      "cell_type": "code",
      "source": [
        "rddP.map(transformer).sortByKey(False).collect()[0]"
      ],
      "metadata": {
        "colab": {
          "base_uri": "https://localhost:8080/"
        },
        "id": "qKHOndISSufA",
        "outputId": "e294aca1-efea-42f4-80fb-850c0d96b9c5"
      },
      "execution_count": null,
      "outputs": [
        {
          "output_type": "execute_result",
          "data": {
            "text/plain": [
              "(8030, '31/08/2011')"
            ]
          },
          "metadata": {},
          "execution_count": 8
        }
      ]
    },
    {
      "cell_type": "markdown",
      "source": [
        "## solution avec reduce"
      ],
      "metadata": {
        "id": "c6HloJBCOXsq"
      }
    },
    {
      "cell_type": "code",
      "source": [
        "def fmax(a,b):\n",
        "  if a>b:\n",
        "    return a\n",
        "  return b"
      ],
      "metadata": {
        "id": "7n1RkkADTuYs"
      },
      "execution_count": null,
      "outputs": []
    },
    {
      "cell_type": "code",
      "source": [
        "rddP.map(transformer).reduce(max)"
      ],
      "metadata": {
        "colab": {
          "base_uri": "https://localhost:8080/"
        },
        "id": "a9RC0mayT48B",
        "outputId": "a325c681-2a2f-430d-e3ae-10658d6dbcc7"
      },
      "execution_count": null,
      "outputs": [
        {
          "output_type": "execute_result",
          "data": {
            "text/plain": [
              "(8030, '31/08/2011')"
            ]
          },
          "metadata": {},
          "execution_count": 10
        }
      ]
    },
    {
      "cell_type": "markdown",
      "source": [
        "#Q2.b"
      ],
      "metadata": {
        "id": "BOuO7Nbk9Jzm"
      }
    },
    {
      "cell_type": "code",
      "source": [
        "def extract_year_prod(l):\n",
        "  T=l.split(';')\n",
        "  for i in range(len(T)-1):\n",
        "    T[i]=int(T[i]) if T[i]!='' else 0\n",
        "  return T[-1][-4:], T[:-1]\n",
        "\n",
        "def somme_prod(a,b):\n",
        "  resultat = []\n",
        "  for i in range(len(a)):\n",
        "    resultat.append(a[i]+b[i])\n",
        "  return resultat"
      ],
      "metadata": {
        "id": "eZCYJRLV9L2t"
      },
      "execution_count": null,
      "outputs": []
    },
    {
      "cell_type": "code",
      "source": [
        "q2b = rddP.map(extract_year_prod).reduceByKey(somme_prod).sortByKey()\n",
        "q2b.collect()"
      ],
      "metadata": {
        "colab": {
          "base_uri": "https://localhost:8080/"
        },
        "id": "-58w0YJfBkT8",
        "outputId": "a7cd99e3-f78e-49cc-8af8-b978df0ec50c"
      },
      "execution_count": null,
      "outputs": [
        {
          "output_type": "execute_result",
          "data": {
            "text/plain": [
              "[('2010',\n",
              "  [52802, 23505, 143450, 0, 20799, 155150, 76430, 762722, 1276660, 1212633]),\n",
              " ('2011',\n",
              "  [45270, 17151, 84660, 0, 8054, 79839, 54680, 408928, 428420, 518219]),\n",
              " ('2012',\n",
              "  [31870, 14438, 116695, 0, 11022, 171737, 57480, 494311, 666025, 777012]),\n",
              " ('2013',\n",
              "  [11260, 17620, 127449, 0, 9127, 131246, 46170, 518043, 823537, 747793]),\n",
              " ('2014',\n",
              "  [21920, 7527, 124385, 0, 12366, 158112, 60470, 482314, 587528, 633027]),\n",
              " ('2015', [9670, 5836, 87060, 0, 5605, 149257, 67290, 261797, 369518, 475457]),\n",
              " ('2016',\n",
              "  [12510, 11497, 67980, 0, 11582, 166339, 63160, 385043, 569800, 599085]),\n",
              " ('2017',\n",
              "  [9383, 11614, 83730, 0, 12932, 170519, 29070, 299737, 564673, 597423]),\n",
              " ('2018',\n",
              "  [20953, 1618, 57710, 0, 14454, 195247, 55750, 245436, 332831, 451945]),\n",
              " ('2019',\n",
              "  [13085, 12427, 47660, 0, 12271, 160425, 35740, 276128, 444568, 435443]),\n",
              " ('2020',\n",
              "  [7490, 1213, 46060, 39930, 4519, 61737, 28470, 52682, 334958, 310269])]"
            ]
          },
          "metadata": {},
          "execution_count": 21
        }
      ]
    },
    {
      "cell_type": "markdown",
      "source": [
        "# Q2.C"
      ],
      "metadata": {
        "id": "XP3oP9wBEAVU"
      }
    },
    {
      "cell_type": "code",
      "source": [
        "def extract_year_prod_total(l):\n",
        "  T=l.split(';')\n",
        "  for i in range(10):\n",
        "    T[i]=int(T[i]) if T[i]!='' else 0\n",
        "  return T[-1][-4:],sum(T[:10])\n",
        "\n",
        "def somme_prod_total(a,b):\n",
        "  return a+b"
      ],
      "metadata": {
        "id": "tOkInicyD_Lr"
      },
      "execution_count": null,
      "outputs": []
    },
    {
      "cell_type": "code",
      "source": [
        "q2c = rddP.map(extract_year_prod_total).reduceByKey(somme_prod_total).sortByKey()\n",
        "q2c.collect()"
      ],
      "metadata": {
        "colab": {
          "base_uri": "https://localhost:8080/"
        },
        "id": "INlyLns2EhF1",
        "outputId": "4dc85fab-cf91-4a77-e116-056e12f12366"
      },
      "execution_count": null,
      "outputs": [
        {
          "output_type": "execute_result",
          "data": {
            "text/plain": [
              "[('2010', 3724151),\n",
              " ('2011', 1645221),\n",
              " ('2012', 2340590),\n",
              " ('2013', 2432245),\n",
              " ('2014', 2087649),\n",
              " ('2015', 1431490),\n",
              " ('2016', 1886996),\n",
              " ('2017', 1779081),\n",
              " ('2018', 1375944),\n",
              " ('2019', 1437747),\n",
              " ('2020', 887328)]"
            ]
          },
          "metadata": {},
          "execution_count": 23
        }
      ]
    },
    {
      "cell_type": "code",
      "source": [
        "q2cv2 = q2b.map(lambda a: (a[0], sum(a[1])))\n",
        "q2cv2.collect()"
      ],
      "metadata": {
        "colab": {
          "base_uri": "https://localhost:8080/"
        },
        "id": "xd7pZ7hQE72g",
        "outputId": "15846321-5cec-492d-ba44-5d427bead98f"
      },
      "execution_count": null,
      "outputs": [
        {
          "output_type": "execute_result",
          "data": {
            "text/plain": [
              "[('2010', 3724151),\n",
              " ('2011', 1645221),\n",
              " ('2012', 2340590),\n",
              " ('2013', 2432245),\n",
              " ('2014', 2087649),\n",
              " ('2015', 1431490),\n",
              " ('2016', 1886996),\n",
              " ('2017', 1779081),\n",
              " ('2018', 1375944),\n",
              " ('2019', 1437747),\n",
              " ('2020', 887328)]"
            ]
          },
          "metadata": {},
          "execution_count": 24
        }
      ]
    },
    {
      "cell_type": "markdown",
      "source": [
        "# Q2.d\n",
        "\n",
        "Nous utilisons les mêmes fonctions créées dans Q2.b"
      ],
      "metadata": {
        "id": "NjIOdy1aJi56"
      }
    },
    {
      "cell_type": "code",
      "source": [
        "q2d = rddV.map(extract_year_prod).reduceByKey(somme_prod).sortByKey()\n",
        "q2d.collect()"
      ],
      "metadata": {
        "colab": {
          "base_uri": "https://localhost:8080/"
        },
        "id": "CdNKqnCqKTqK",
        "outputId": "744535cd-d112-4df8-e72b-5e4cd3c256e3"
      },
      "execution_count": null,
      "outputs": [
        {
          "output_type": "execute_result",
          "data": {
            "text/plain": [
              "[('2010', [52000, 27322, 137202, 0, 54675, 712469, 1157379, 527250]),\n",
              " ('2011', [44253, 16954, 82675, 0, 28338, 361326, 354404, 249606]),\n",
              " ('2012', [33931, 14199, 108286, 3600, 34100, 446345, 558778, 360095]),\n",
              " ('2013', [7960, 10250, 126341, 6577, 20980, 484456, 634325, 284611]),\n",
              " ('2014', [21155, 7210, 121362, 1700, 42047, 524731, 503963, 247427]),\n",
              " ('2015', [11412, 7800, 81264, 0, 39500, 282673, 223786, 136077]),\n",
              " ('2016', [14242, 18915, 72627, 0, 36400, 385428, 560364, 297803]),\n",
              " ('2017', [9148, 8490, 75575, 0, 12000, 252480, 440065, 229448]),\n",
              " ('2018', [17075, 6450, 48911, 5000, 40356, 291571, 248846, 143407]),\n",
              " ('2019', [14300, 5753, 50573, 4000, 29563, 283223, 338336, 141739]),\n",
              " ('2020', [9150, 2420, 34843, 0, 15850, 53950, 320068, 126575])]"
            ]
          },
          "metadata": {},
          "execution_count": 25
        }
      ]
    },
    {
      "cell_type": "markdown",
      "source": [
        "# Q2.e"
      ],
      "metadata": {
        "id": "kuAPowoEOxmu"
      }
    },
    {
      "cell_type": "code",
      "source": [
        "def difference_anne(l):\n",
        "  annee = l[0]\n",
        "  prod = l[1][0]\n",
        "  ventes = l[1][1]\n",
        "  resultat = []\n",
        "  del prod[3], prod[4]\n",
        "  for i in range(len(ventes)):\n",
        "    resultat.append(prod[i]-ventes[i])\n",
        "  return annee, resultat\n"
      ],
      "metadata": {
        "id": "lvJC4r8nSaR6"
      },
      "execution_count": null,
      "outputs": []
    },
    {
      "cell_type": "code",
      "source": [
        "q2e = q2b.join(q2d).map(difference_anne)\n",
        "q2e.collect()"
      ],
      "metadata": {
        "colab": {
          "base_uri": "https://localhost:8080/"
        },
        "id": "cQOZqungO1FK",
        "outputId": "ad1bd60c-81a8-4f99-deaf-c6981e277a6a"
      },
      "execution_count": null,
      "outputs": [
        {
          "output_type": "execute_result",
          "data": {
            "text/plain": [
              "[('2012', [-2061, 239, 8409, 7422, 23380, 47966, 107247, 416917]),\n",
              " ('2014', [765, 317, 3023, 10666, 18423, -42417, 83565, 385600]),\n",
              " ('2015', [-1742, -1964, 5796, 5605, 27790, -20876, 145732, 339380]),\n",
              " ('2017', [235, 3124, 8155, 12932, 17070, 47257, 124608, 367975]),\n",
              " ('2018', [3878, -4832, 8799, 9454, 15394, -46135, 83985, 308538]),\n",
              " ('2010', [802, -3817, 6248, 20799, 21755, 50253, 119281, 685383]),\n",
              " ('2011', [1017, 197, 1985, 8054, 26342, 47602, 74016, 268613]),\n",
              " ('2013', [3300, 7370, 1108, 2550, 25190, 33587, 189212, 463182]),\n",
              " ('2016', [-1732, -7418, -4647, 11582, 26760, -385, 9436, 301282]),\n",
              " ('2019', [-1215, 6674, -2913, 8271, 6177, -7095, 106232, 293704]),\n",
              " ('2020', [-1660, -1207, 11217, 4519, 12620, -1268, 14890, 183694])]"
            ]
          },
          "metadata": {},
          "execution_count": 27
        }
      ]
    },
    {
      "cell_type": "markdown",
      "source": [
        "# Solutions avec DataFrame"
      ],
      "metadata": {
        "id": "LkbsfcpOU3xU"
      }
    },
    {
      "cell_type": "code",
      "source": [
        "schemaP = \"NPK int,G27 int,STPP int,SSP int,NP int,NA int,DCP int, TSP int,DAP int, AP54 int,Year string\"\n",
        "schemaV = \"NPK int,G27 int,STPP int,NA int,DCP int, TSP int,DAP int, AP54 int,Year string\""
      ],
      "metadata": {
        "id": "_72ZTMUTYYIg"
      },
      "execution_count": 7,
      "outputs": []
    },
    {
      "cell_type": "code",
      "source": [
        "dfP = spark.read.csv('prod_der_phosphate_mois.csv',sep=';', header=True, schema=schemaP)\n",
        "dfV = spark.read.csv('vente_export_der_ph_mois.csv', header=True, sep=';', schema=schemaV)"
      ],
      "metadata": {
        "id": "B6icPtlQU8HL"
      },
      "execution_count": 8,
      "outputs": []
    },
    {
      "cell_type": "code",
      "source": [
        "dfV.show()"
      ],
      "metadata": {
        "colab": {
          "base_uri": "https://localhost:8080/"
        },
        "id": "x7ZLyoysVfsS",
        "outputId": "adf1d3c4-384e-432c-bda4-5aa9991679c0"
      },
      "execution_count": 9,
      "outputs": [
        {
          "output_type": "stream",
          "name": "stdout",
          "text": [
            "+-----+----+-----+----+----+-----+------+-----+----------+\n",
            "|  NPK| G27| STPP|  NA| DCP|  TSP|   DAP| AP54|      Year|\n",
            "+-----+----+-----+----+----+-----+------+-----+----------+\n",
            "| 2050|1607| 8186|null|2850|69490|134144|41277|31/01/2010|\n",
            "| 4600|5150|11489|null|6985|24000| 46210|45322|28/02/2010|\n",
            "| 6000|2300|14587|null|6540|68500| 86999|43274|31/03/2010|\n",
            "| 1120|1905| 8974|null| 540|16500| 34051|52997|30/04/2010|\n",
            "| 5600|6600|12861|null|4000|89984| 65808|43874|31/05/2010|\n",
            "|    0|   0|12127|null|8024|68525|145938|11243|30/06/2010|\n",
            "| 8780|1745|10436|null|5300|57900|127873|66579|31/07/2010|\n",
            "| 6300|1640|12597|null|2701|78290|123132|54433|31/08/2010|\n",
            "| 6000| 780|11168|null| 300|72340| 81026|38795|30/09/2010|\n",
            "| 3400|5095|10820|null|6535|32930|114226|43246|31/10/2010|\n",
            "| 4650| 500|11392|null|7500|61200|109884|31994|30/11/2010|\n",
            "| 3500|   0|12565|null|3400|72810| 88088|54216|31/12/2010|\n",
            "| 1800|   0|12240|null|   0|61878|108253|48821|31/01/2011|\n",
            "| 2300|5850| 2570|null| 500| 4400| 13697|24518|28/02/2011|\n",
            "| 4503|   0| 4690|null|   0|33000|     0| 9034|31/03/2011|\n",
            "|    0|2856| 7815|null| 500|19570|     0| 3601|30/04/2011|\n",
            "|    0|2290|12045|null|9208|37380| 62619|45389|31/05/2011|\n",
            "| 8450|   0| 9785|null|3925|31730| 34608|31498|30/06/2011|\n",
            "| 5250|   0| 3570|null|2255|33036| 18030| 8764|31/07/2011|\n",
            "|10150|2958|  350|null|3850|45020| 25090|   37|31/08/2011|\n",
            "+-----+----+-----+----+----+-----+------+-----+----------+\n",
            "only showing top 20 rows\n",
            "\n"
          ]
        }
      ]
    },
    {
      "cell_type": "code",
      "source": [
        "dfV = dfV.fillna(0)\n",
        "dfP = dfP.fillna(0)\n",
        "dfV.createOrReplaceTempView('ventes')\n",
        "dfP.createOrReplaceTempView('productions')"
      ],
      "metadata": {
        "id": "vHsVWQZVV5ej"
      },
      "execution_count": 10,
      "outputs": []
    },
    {
      "cell_type": "code",
      "source": [
        "q3a = spark.sql('select year, npk from productions order by npk desc limit 1').show()"
      ],
      "metadata": {
        "colab": {
          "base_uri": "https://localhost:8080/"
        },
        "id": "KvSHLpP4Wv5Q",
        "outputId": "dd22433c-3bda-42ae-d4b2-6d435163e57c"
      },
      "execution_count": 11,
      "outputs": [
        {
          "output_type": "stream",
          "name": "stdout",
          "text": [
            "+----------+----+\n",
            "|      year| npk|\n",
            "+----------+----+\n",
            "|31/08/2011|8030|\n",
            "+----------+----+\n",
            "\n"
          ]
        }
      ]
    },
    {
      "cell_type": "code",
      "source": [
        "q3a_v2=dfP.select('year','npk').orderBy('npk', ascending=False).limit(1)\n",
        "q3a_v2.show()"
      ],
      "metadata": {
        "colab": {
          "base_uri": "https://localhost:8080/"
        },
        "id": "gTnXf57ugZ4i",
        "outputId": "b493a934-a455-4943-955a-e8c96befd7fd"
      },
      "execution_count": 12,
      "outputs": [
        {
          "output_type": "stream",
          "name": "stdout",
          "text": [
            "+----------+----+\n",
            "|      year| npk|\n",
            "+----------+----+\n",
            "|31/08/2011|8030|\n",
            "+----------+----+\n",
            "\n"
          ]
        }
      ]
    },
    {
      "cell_type": "code",
      "source": [
        "q3b = spark.sql('''select substr(year,7) as year, sum(NPK), sum(G27), sum(STPP), sum(SSP), sum(NP), \n",
        "                  sum(NA), sum(DCP), sum(TSP), sum(DAP), sum(AP54) from productions group by (substr(year,7)) order by 1''')\n",
        "q3b.show()"
      ],
      "metadata": {
        "colab": {
          "base_uri": "https://localhost:8080/"
        },
        "id": "mqzuHpxFaCAY",
        "outputId": "b37c2b97-dd2c-4fb1-b8b3-ee96b5fe4daf"
      },
      "execution_count": 13,
      "outputs": [
        {
          "output_type": "stream",
          "name": "stdout",
          "text": [
            "+----+--------+--------+---------+--------+-------+-------+--------+--------+--------+---------+\n",
            "|year|sum(NPK)|sum(G27)|sum(STPP)|sum(SSP)|sum(NP)|sum(NA)|sum(DCP)|sum(TSP)|sum(DAP)|sum(AP54)|\n",
            "+----+--------+--------+---------+--------+-------+-------+--------+--------+--------+---------+\n",
            "|2010|   52802|   23505|   143450|       0|  20799| 155150|   76430|  762722| 1276660|  1212633|\n",
            "|2011|   45270|   17151|    84660|       0|   8054|  79839|   54680|  408928|  428420|   518219|\n",
            "|2012|   31870|   14438|   116695|       0|  11022| 171737|   57480|  494311|  666025|   777012|\n",
            "|2013|   11260|   17620|   127449|       0|   9127| 131246|   46170|  518043|  823537|   747793|\n",
            "|2014|   21920|    7527|   124385|       0|  12366| 158112|   60470|  482314|  587528|   633027|\n",
            "|2015|    9670|    5836|    87060|       0|   5605| 149257|   67290|  261797|  369518|   475457|\n",
            "|2016|   12510|   11497|    67980|       0|  11582| 166339|   63160|  385043|  569800|   599085|\n",
            "|2017|    9383|   11614|    83730|       0|  12932| 170519|   29070|  299737|  564673|   597423|\n",
            "|2018|   20953|    1618|    57710|       0|  14454| 195247|   55750|  245436|  332831|   451945|\n",
            "|2019|   13085|   12427|    47660|       0|  12271| 160425|   35740|  276128|  444568|   435443|\n",
            "|2020|    7490|    1213|    46060|   39930|   4519|  61737|   28470|   52682|  334958|   310269|\n",
            "+----+--------+--------+---------+--------+-------+-------+--------+--------+--------+---------+\n",
            "\n"
          ]
        }
      ]
    },
    {
      "cell_type": "code",
      "source": [
        "q3b_v2 = dfP.groupBy(dfP['year'][7:10]).agg({'NPK':'sum', 'G27':'sum', 'STPP':'sum', 'SSP':'sum', 'NP':'sum', 'NA':'sum', 'DCP':'sum', 'TSP':'sum', 'DAP':'sum', 'AP54':'sum'}).withColumnRenamed('substring(year, 7, 10)','year').orderBy('year')\n",
        "q3b_v2.show()"
      ],
      "metadata": {
        "colab": {
          "base_uri": "https://localhost:8080/"
        },
        "id": "I3bVbh8ng6Xm",
        "outputId": "5a75c398-e3bc-41c0-b884-76babf46e06e"
      },
      "execution_count": 14,
      "outputs": [
        {
          "output_type": "stream",
          "name": "stdout",
          "text": [
            "+----+---------+--------+-------+--------+--------+--------+-------+--------+---------+--------+\n",
            "|year|sum(STPP)|sum(NPK)|sum(NA)|sum(DCP)|sum(TSP)|sum(DAP)|sum(NP)|sum(SSP)|sum(AP54)|sum(G27)|\n",
            "+----+---------+--------+-------+--------+--------+--------+-------+--------+---------+--------+\n",
            "|2010|   143450|   52802| 155150|   76430|  762722| 1276660|  20799|       0|  1212633|   23505|\n",
            "|2011|    84660|   45270|  79839|   54680|  408928|  428420|   8054|       0|   518219|   17151|\n",
            "|2012|   116695|   31870| 171737|   57480|  494311|  666025|  11022|       0|   777012|   14438|\n",
            "|2013|   127449|   11260| 131246|   46170|  518043|  823537|   9127|       0|   747793|   17620|\n",
            "|2014|   124385|   21920| 158112|   60470|  482314|  587528|  12366|       0|   633027|    7527|\n",
            "|2015|    87060|    9670| 149257|   67290|  261797|  369518|   5605|       0|   475457|    5836|\n",
            "|2016|    67980|   12510| 166339|   63160|  385043|  569800|  11582|       0|   599085|   11497|\n",
            "|2017|    83730|    9383| 170519|   29070|  299737|  564673|  12932|       0|   597423|   11614|\n",
            "|2018|    57710|   20953| 195247|   55750|  245436|  332831|  14454|       0|   451945|    1618|\n",
            "|2019|    47660|   13085| 160425|   35740|  276128|  444568|  12271|       0|   435443|   12427|\n",
            "|2020|    46060|    7490|  61737|   28470|   52682|  334958|   4519|   39930|   310269|    1213|\n",
            "+----+---------+--------+-------+--------+--------+--------+-------+--------+---------+--------+\n",
            "\n"
          ]
        }
      ]
    },
    {
      "cell_type": "code",
      "source": [
        "q3b_v3 = dfP.groupBy(dfP['year'][7:10]).sum().withColumnRenamed('substring(year, 7, 10)','year').orderBy('year')\n",
        "q3b_v3.show()"
      ],
      "metadata": {
        "colab": {
          "base_uri": "https://localhost:8080/"
        },
        "id": "mC9Cva2xhUrx",
        "outputId": "6f65f9bb-9258-4cb9-d323-3b3f7a52f7bd"
      },
      "execution_count": 15,
      "outputs": [
        {
          "output_type": "stream",
          "name": "stdout",
          "text": [
            "+----+--------+--------+---------+--------+-------+-------+--------+--------+--------+---------+\n",
            "|year|sum(NPK)|sum(G27)|sum(STPP)|sum(SSP)|sum(NP)|sum(NA)|sum(DCP)|sum(TSP)|sum(DAP)|sum(AP54)|\n",
            "+----+--------+--------+---------+--------+-------+-------+--------+--------+--------+---------+\n",
            "|2010|   52802|   23505|   143450|       0|  20799| 155150|   76430|  762722| 1276660|  1212633|\n",
            "|2011|   45270|   17151|    84660|       0|   8054|  79839|   54680|  408928|  428420|   518219|\n",
            "|2012|   31870|   14438|   116695|       0|  11022| 171737|   57480|  494311|  666025|   777012|\n",
            "|2013|   11260|   17620|   127449|       0|   9127| 131246|   46170|  518043|  823537|   747793|\n",
            "|2014|   21920|    7527|   124385|       0|  12366| 158112|   60470|  482314|  587528|   633027|\n",
            "|2015|    9670|    5836|    87060|       0|   5605| 149257|   67290|  261797|  369518|   475457|\n",
            "|2016|   12510|   11497|    67980|       0|  11582| 166339|   63160|  385043|  569800|   599085|\n",
            "|2017|    9383|   11614|    83730|       0|  12932| 170519|   29070|  299737|  564673|   597423|\n",
            "|2018|   20953|    1618|    57710|       0|  14454| 195247|   55750|  245436|  332831|   451945|\n",
            "|2019|   13085|   12427|    47660|       0|  12271| 160425|   35740|  276128|  444568|   435443|\n",
            "|2020|    7490|    1213|    46060|   39930|   4519|  61737|   28470|   52682|  334958|   310269|\n",
            "+----+--------+--------+---------+--------+-------+-------+--------+--------+--------+---------+\n",
            "\n"
          ]
        }
      ]
    },
    {
      "cell_type": "code",
      "source": [
        "q3c = spark.sql('''select substr(year,7) as year, \n",
        "                (sum(NPK)+ sum(G27)+ sum(STPP)+ sum(SSP)+ sum(NP)+ sum(NA)+ sum(DCP)+ sum(TSP)+ sum(DAP)+ sum(AP54)) as Total \n",
        "                from productions group by (substr(year,7)) order by 1''')\n",
        "q3c.show()"
      ],
      "metadata": {
        "colab": {
          "base_uri": "https://localhost:8080/"
        },
        "id": "HmLoRn5ljox7",
        "outputId": "ed3f84e8-bdad-46c4-c0bb-639bb7e7696d"
      },
      "execution_count": 16,
      "outputs": [
        {
          "output_type": "stream",
          "name": "stdout",
          "text": [
            "+----+-------+\n",
            "|year|  Total|\n",
            "+----+-------+\n",
            "|2010|3724151|\n",
            "|2011|1645221|\n",
            "|2012|2340590|\n",
            "|2013|2432245|\n",
            "|2014|2087649|\n",
            "|2015|1431490|\n",
            "|2016|1886996|\n",
            "|2017|1779081|\n",
            "|2018|1375944|\n",
            "|2019|1437747|\n",
            "|2020| 887328|\n",
            "+----+-------+\n",
            "\n"
          ]
        }
      ]
    },
    {
      "cell_type": "code",
      "source": [
        "q3d = spark.sql('''select substr(year,7) as year, sum(NPK), sum(G27), sum(STPP), sum(NA), sum(DCP), sum(TSP), sum(DAP), sum(AP54) \n",
        "                  from ventes group by (substr(year,7)) order by 1''')\n",
        "q3d.show()"
      ],
      "metadata": {
        "colab": {
          "base_uri": "https://localhost:8080/"
        },
        "id": "CIy4KQEwlh6N",
        "outputId": "5a5c5350-40db-4068-8ac9-cabd6cd596e9"
      },
      "execution_count": 18,
      "outputs": [
        {
          "output_type": "stream",
          "name": "stdout",
          "text": [
            "+----+--------+--------+---------+-------+--------+--------+--------+---------+\n",
            "|year|sum(NPK)|sum(G27)|sum(STPP)|sum(NA)|sum(DCP)|sum(TSP)|sum(DAP)|sum(AP54)|\n",
            "+----+--------+--------+---------+-------+--------+--------+--------+---------+\n",
            "|2010|   52000|   27322|   137202|      0|   54675|  712469| 1157379|   527250|\n",
            "|2011|   44253|   16954|    82675|      0|   28338|  361326|  354404|   249606|\n",
            "|2012|   33931|   14199|   108286|   3600|   34100|  446345|  558778|   360095|\n",
            "|2013|    7960|   10250|   126341|   6577|   20980|  484456|  634325|   284611|\n",
            "|2014|   21155|    7210|   121362|   1700|   42047|  524731|  503963|   247427|\n",
            "|2015|   11412|    7800|    81264|      0|   39500|  282673|  223786|   136077|\n",
            "|2016|   14242|   18915|    72627|      0|   36400|  385428|  560364|   297803|\n",
            "|2017|    9148|    8490|    75575|      0|   12000|  252480|  440065|   229448|\n",
            "|2018|   17075|    6450|    48911|   5000|   40356|  291571|  248846|   143407|\n",
            "|2019|   14300|    5753|    50573|   4000|   29563|  283223|  338336|   141739|\n",
            "|2020|    9150|    2420|    34843|      0|   15850|   53950|  320068|   126575|\n",
            "+----+--------+--------+---------+-------+--------+--------+--------+---------+\n",
            "\n"
          ]
        }
      ]
    },
    {
      "cell_type": "code",
      "source": [
        "q3d_V2 = dfV.groupBy(dfV['year'][7:10]).sum().withColumnRenamed('substring(year, 7, 10)','year').orderBy('year')\n",
        "q3d_V2.show()"
      ],
      "metadata": {
        "colab": {
          "base_uri": "https://localhost:8080/"
        },
        "id": "EOmwqqPRmvZz",
        "outputId": "b6dd92f1-5374-4a2b-befc-b4b03f839337"
      },
      "execution_count": 17,
      "outputs": [
        {
          "output_type": "stream",
          "name": "stdout",
          "text": [
            "+----+--------+--------+---------+-------+--------+--------+--------+---------+\n",
            "|year|sum(NPK)|sum(G27)|sum(STPP)|sum(NA)|sum(DCP)|sum(TSP)|sum(DAP)|sum(AP54)|\n",
            "+----+--------+--------+---------+-------+--------+--------+--------+---------+\n",
            "|2010|   52000|   27322|   137202|      0|   54675|  712469| 1157379|   527250|\n",
            "|2011|   44253|   16954|    82675|      0|   28338|  361326|  354404|   249606|\n",
            "|2012|   33931|   14199|   108286|   3600|   34100|  446345|  558778|   360095|\n",
            "|2013|    7960|   10250|   126341|   6577|   20980|  484456|  634325|   284611|\n",
            "|2014|   21155|    7210|   121362|   1700|   42047|  524731|  503963|   247427|\n",
            "|2015|   11412|    7800|    81264|      0|   39500|  282673|  223786|   136077|\n",
            "|2016|   14242|   18915|    72627|      0|   36400|  385428|  560364|   297803|\n",
            "|2017|    9148|    8490|    75575|      0|   12000|  252480|  440065|   229448|\n",
            "|2018|   17075|    6450|    48911|   5000|   40356|  291571|  248846|   143407|\n",
            "|2019|   14300|    5753|    50573|   4000|   29563|  283223|  338336|   141739|\n",
            "|2020|    9150|    2420|    34843|      0|   15850|   53950|  320068|   126575|\n",
            "+----+--------+--------+---------+-------+--------+--------+--------+---------+\n",
            "\n"
          ]
        }
      ]
    },
    {
      "cell_type": "code",
      "source": [
        "q3b=q3b.toDF(*['year', 'NPK', 'G27', 'STPP', 'SSP', 'NP', 'NA', 'DCP', 'TSP', 'DAP', 'AP54'])\n",
        "q3d = q3d.toDF(*['year','NPK','G27','STPP','NA','DCP','TSP','DAP','AP54'])"
      ],
      "metadata": {
        "id": "P5gafQ2Um1RU"
      },
      "execution_count": 23,
      "outputs": []
    },
    {
      "cell_type": "code",
      "source": [
        "q3b.join(q3d, on='year' ).select(\n",
        "    'year',q3b.NPK-q3d.NPK, q3b.G27-q3d.G27,q3b.STPP-q3d.STPP,q3b.NA-q3d.NA,\n",
        "    q3b.DCP-q3d.DCP,q3b.TSP-q3d.TSP,q3b.DAP-q3d.DAP, q3b.AP54-q3d.AP54).show()"
      ],
      "metadata": {
        "colab": {
          "base_uri": "https://localhost:8080/"
        },
        "id": "zrVV5fM8rcW5",
        "outputId": "6456333e-ad0b-49b1-dfe2-512b58eae3a6"
      },
      "execution_count": 24,
      "outputs": [
        {
          "output_type": "stream",
          "name": "stdout",
          "text": [
            "+----+-----------+-----------+-------------+---------+-----------+-----------+-----------+-------------+\n",
            "|year|(NPK - NPK)|(G27 - G27)|(STPP - STPP)|(NA - NA)|(DCP - DCP)|(TSP - TSP)|(DAP - DAP)|(AP54 - AP54)|\n",
            "+----+-----------+-----------+-------------+---------+-----------+-----------+-----------+-------------+\n",
            "|2016|      -1732|      -7418|        -4647|   166339|      26760|       -385|       9436|       301282|\n",
            "|2012|      -2061|        239|         8409|   168137|      23380|      47966|     107247|       416917|\n",
            "|2020|      -1660|      -1207|        11217|    61737|      12620|      -1268|      14890|       183694|\n",
            "|2019|      -1215|       6674|        -2913|   156425|       6177|      -7095|     106232|       293704|\n",
            "|2017|        235|       3124|         8155|   170519|      17070|      47257|     124608|       367975|\n",
            "|2014|        765|        317|         3023|   156412|      18423|     -42417|      83565|       385600|\n",
            "|2013|       3300|       7370|         1108|   124669|      25190|      33587|     189212|       463182|\n",
            "|2018|       3878|      -4832|         8799|   190247|      15394|     -46135|      83985|       308538|\n",
            "|2011|       1017|        197|         1985|    79839|      26342|      47602|      74016|       268613|\n",
            "|2015|      -1742|      -1964|         5796|   149257|      27790|     -20876|     145732|       339380|\n",
            "|2010|        802|      -3817|         6248|   155150|      21755|      50253|     119281|       685383|\n",
            "+----+-----------+-----------+-------------+---------+-----------+-----------+-----------+-------------+\n",
            "\n"
          ]
        }
      ]
    }
  ]
}