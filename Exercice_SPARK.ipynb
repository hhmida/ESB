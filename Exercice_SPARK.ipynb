{
  "nbformat": 4,
  "nbformat_minor": 0,
  "metadata": {
    "colab": {
      "provenance": [],
      "authorship_tag": "ABX9TyN/miOx/2gZkxXjP1wTPdGp",
      "include_colab_link": true
    },
    "kernelspec": {
      "name": "python3",
      "display_name": "Python 3"
    },
    "language_info": {
      "name": "python"
    }
  },
  "cells": [
    {
      "cell_type": "markdown",
      "metadata": {
        "id": "view-in-github",
        "colab_type": "text"
      },
      "source": [
        "<a href=\"https://colab.research.google.com/github/hhmida/ESB/blob/main/Exercice_SPARK.ipynb\" target=\"_parent\"><img src=\"https://colab.research.google.com/assets/colab-badge.svg\" alt=\"Open In Colab\"/></a>"
      ]
    },
    {
      "cell_type": "code",
      "execution_count": 1,
      "metadata": {
        "colab": {
          "base_uri": "https://localhost:8080/"
        },
        "id": "2_H_FoPWMtae",
        "outputId": "80195f16-b8a2-4a5d-d77c-384c2f0c55fc"
      },
      "outputs": [
        {
          "output_type": "stream",
          "name": "stdout",
          "text": [
            "Looking in indexes: https://pypi.org/simple, https://us-python.pkg.dev/colab-wheels/public/simple/\n",
            "Collecting pyspark\n",
            "  Downloading pyspark-3.3.1.tar.gz (281.4 MB)\n",
            "\u001b[K     |████████████████████████████████| 281.4 MB 40 kB/s \n",
            "\u001b[?25hCollecting py4j==0.10.9.5\n",
            "  Downloading py4j-0.10.9.5-py2.py3-none-any.whl (199 kB)\n",
            "\u001b[K     |████████████████████████████████| 199 kB 57.3 MB/s \n",
            "\u001b[?25hBuilding wheels for collected packages: pyspark\n",
            "  Building wheel for pyspark (setup.py) ... \u001b[?25l\u001b[?25hdone\n",
            "  Created wheel for pyspark: filename=pyspark-3.3.1-py2.py3-none-any.whl size=281845512 sha256=d95a02b9291d0b9b5ae57188e27d68b193f49340da14549791c9f7779902d9cf\n",
            "  Stored in directory: /root/.cache/pip/wheels/43/dc/11/ec201cd671da62fa9c5cc77078235e40722170ceba231d7598\n",
            "Successfully built pyspark\n",
            "Installing collected packages: py4j, pyspark\n",
            "Successfully installed py4j-0.10.9.5 pyspark-3.3.1\n"
          ]
        }
      ],
      "source": [
        "!pip install pyspark"
      ]
    },
    {
      "cell_type": "code",
      "source": [
        "!wget https://hhmida.github.io/tp-spark/assets/vente_export_der_ph_mois.csv\n",
        "!wget https://hhmida.github.io/tp-spark/assets/prod_der_phosphate_mois.csv"
      ],
      "metadata": {
        "colab": {
          "base_uri": "https://localhost:8080/"
        },
        "id": "aDiSIZbdMyu-",
        "outputId": "354ad678-d62f-4f54-9356-ab8466d5537c"
      },
      "execution_count": 2,
      "outputs": [
        {
          "output_type": "stream",
          "name": "stdout",
          "text": [
            "--2022-12-02 09:39:18--  https://hhmida.github.io/tp-spark/assets/vente_export_der_ph_mois.csv\n",
            "Resolving hhmida.github.io (hhmida.github.io)... 185.199.109.153, 185.199.111.153, 185.199.110.153, ...\n",
            "Connecting to hhmida.github.io (hhmida.github.io)|185.199.109.153|:443... connected.\n",
            "HTTP request sent, awaiting response... 200 OK\n",
            "Length: 6039 (5.9K) [text/csv]\n",
            "Saving to: ‘vente_export_der_ph_mois.csv’\n",
            "\n",
            "\r          vente_exp   0%[                    ]       0  --.-KB/s               \rvente_export_der_ph 100%[===================>]   5.90K  --.-KB/s    in 0s      \n",
            "\n",
            "2022-12-02 09:39:18 (52.3 MB/s) - ‘vente_export_der_ph_mois.csv’ saved [6039/6039]\n",
            "\n",
            "--2022-12-02 09:39:18--  https://hhmida.github.io/tp-spark/assets/prod_der_phosphate_mois.csv\n",
            "Resolving hhmida.github.io (hhmida.github.io)... 185.199.109.153, 185.199.111.153, 185.199.110.153, ...\n",
            "Connecting to hhmida.github.io (hhmida.github.io)|185.199.109.153|:443... connected.\n",
            "HTTP request sent, awaiting response... 200 OK\n",
            "Length: 7434 (7.3K) [text/csv]\n",
            "Saving to: ‘prod_der_phosphate_mois.csv’\n",
            "\n",
            "prod_der_phosphate_ 100%[===================>]   7.26K  --.-KB/s    in 0s      \n",
            "\n",
            "2022-12-02 09:39:18 (81.9 MB/s) - ‘prod_der_phosphate_mois.csv’ saved [7434/7434]\n",
            "\n"
          ]
        }
      ]
    },
    {
      "cell_type": "code",
      "source": [
        "from pyspark.sql import SparkSession\n",
        "from pyspark import SparkContext\n",
        "spark =  SparkSession.builder.appName('Exercice Spark').getOrCreate()\n",
        "sc = spark.sparkContext"
      ],
      "metadata": {
        "id": "XUmCeszXM8g4"
      },
      "execution_count": 6,
      "outputs": []
    },
    {
      "cell_type": "code",
      "source": [
        "from itertools import islice"
      ],
      "metadata": {
        "id": "v0XQGLp0ONT0"
      },
      "execution_count": 26,
      "outputs": []
    },
    {
      "cell_type": "code",
      "source": [
        "rddP = sc.textFile('prod_der_phosphate_mois.csv').cache()\n",
        "rddP = rddP.mapPartitionsWithIndex(lambda idx, iter: islice(iter,1,None) if (idx == 0) else iter)\n"
      ],
      "metadata": {
        "id": "sk2uy_4dNidV"
      },
      "execution_count": 20,
      "outputs": []
    },
    {
      "cell_type": "code",
      "source": [
        "rddV = sc.textFile('vente_export_der_ph_mois.csv').cache()\n",
        "rddV = rddV.mapPartitionsWithIndex(lambda idx, iter: islice(iter,1,None) if (idx == 0) else iter)"
      ],
      "metadata": {
        "id": "F9hNQVgON0st"
      },
      "execution_count": 24,
      "outputs": []
    },
    {
      "cell_type": "code",
      "source": [
        "def transformer(l):\n",
        "  T=l.split(';')\n",
        "  return int(T[0]),T[-1]"
      ],
      "metadata": {
        "id": "ANDqHg35QIUV"
      },
      "execution_count": 36,
      "outputs": []
    },
    {
      "cell_type": "code",
      "source": [
        "rddP.map(transformer).sortByKey(False).collect()[0]"
      ],
      "metadata": {
        "colab": {
          "base_uri": "https://localhost:8080/"
        },
        "id": "qKHOndISSufA",
        "outputId": "45050167-d2af-4381-bb29-d8f9556fd88b"
      },
      "execution_count": 40,
      "outputs": [
        {
          "output_type": "execute_result",
          "data": {
            "text/plain": [
              "(8030, '31/08/2011')"
            ]
          },
          "metadata": {},
          "execution_count": 40
        }
      ]
    },
    {
      "cell_type": "code",
      "source": [
        "def fmax(a,b):\n",
        "  if a>b:\n",
        "    return a\n",
        "  return b"
      ],
      "metadata": {
        "id": "7n1RkkADTuYs"
      },
      "execution_count": 41,
      "outputs": []
    },
    {
      "cell_type": "code",
      "source": [
        "rddP.map(lambda l:(int(l.split(';')[0]),l.split(';')[-1])).reduce(lambda a,b:a if a>b else b)"
      ],
      "metadata": {
        "colab": {
          "base_uri": "https://localhost:8080/"
        },
        "id": "a9RC0mayT48B",
        "outputId": "8b348f88-c328-4708-b45a-1a4994ebbf00"
      },
      "execution_count": 49,
      "outputs": [
        {
          "output_type": "execute_result",
          "data": {
            "text/plain": [
              "(8030, '31/08/2011')"
            ]
          },
          "metadata": {},
          "execution_count": 49
        }
      ]
    }
  ]
}