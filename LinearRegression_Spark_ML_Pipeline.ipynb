{
  "cells": [
    {
      "cell_type": "markdown",
      "metadata": {
        "id": "view-in-github",
        "colab_type": "text"
      },
      "source": [
        "<a href=\"https://colab.research.google.com/github/hhmida/ESB/blob/main/LinearRegression_Spark_ML_Pipeline.ipynb\" target=\"_parent\"><img src=\"https://colab.research.google.com/assets/colab-badge.svg\" alt=\"Open In Colab\"/></a>"
      ]
    },
    {
      "cell_type": "markdown",
      "source": [
        "# Pipeline avec Spark ML\n",
        "---\n",
        "\n",
        "Le pipeline permet d'organiser les différentes transformations et prétraitements sur les données jusqu'à la création d'un modèle. Il facilite ainsi sa configuration et sa réutilisation. Un pipeline est composé de stages de **transformers** et **estimators**. \n",
        "\n",
        "**Transformers**\n",
        "\n",
        "Il transforme un DataFrame en un nouveau DataFrame en lui ajoutant généralement une ou plusieurs colonnes. Les transformers commence par *fit()* sur le DataFrame et possèdent aussi une méthode *transform()* pour transformer le DataFrame.\n",
        "\n",
        "Exemple : StandardScaler\n",
        "```python\n",
        "from pyspark.ml.feature import StandardScaler\n",
        "dataFrame = spark.read.csv(\"data.csv\")\n",
        "scaler = StandardScaler(inputCol=\"features\", outputCol=\"scaledFeatures\",\n",
        "                        withStd=True, withMean=False)\n",
        "scalerModel = scaler.fit(dataFrame)\n",
        "scaledData = scalerModel.transform(dataFrame)\n",
        "scaledData.show()\n",
        "```\n",
        "\n",
        "**Estimators**\n",
        "\n",
        "C'est une abstraction d'un algorithme d'apprentissage qui sera entrainé sur un dataset. Sa méthode *fit()* dont le paramètre est un DataFrame produit un modèle. Ce modèle peut être utilisé ensuite pour transformer (méthode *transform()*) des données afin d'appliquer le modèle pour prédire leur classe par exemple.\n",
        "\n",
        "Exemple : LinearRegression\n",
        "\n",
        "```python\n",
        "from pyspark.ml.regression import LinearRegression\n",
        "\n",
        "#charger et préparer le dataset\n",
        "# ...\n",
        "# Créer le modèle\n",
        "lr = LinearRegression(maxIter=10, regParam=0.3, elasticNetParam=0.8)\n",
        "lrModel = lr.fit(trainingDF)\n",
        "\n",
        "# Appliquer  sur les données de test\n",
        "lrModel.transform(testDF)\n",
        "```\n",
        "Nous allons appliquer un pipeline pour un problème de classification afin de prédire si un vol serait en retard ou non.\n",
        "\n",
        "### Installer Pyspark télécharger le dataset\n",
        "\n"
      ],
      "metadata": {
        "id": "fl--c1CtvVO0"
      }
    },
    {
      "cell_type": "code",
      "source": [
        "!pip install pyspark  "
      ],
      "metadata": {
        "colab": {
          "base_uri": "https://localhost:8080/"
        },
        "id": "E4VPOCocxtIz",
        "outputId": "189baf90-9c73-455c-f264-8e0bb8e5891c"
      },
      "execution_count": null,
      "outputs": [
        {
          "output_type": "stream",
          "name": "stdout",
          "text": [
            "Looking in indexes: https://pypi.org/simple, https://us-python.pkg.dev/colab-wheels/public/simple/\n",
            "Requirement already satisfied: pyspark in /usr/local/lib/python3.8/dist-packages (3.3.1)\n",
            "Requirement already satisfied: py4j==0.10.9.5 in /usr/local/lib/python3.8/dist-packages (from pyspark) (0.10.9.5)\n"
          ]
        }
      ]
    },
    {
      "cell_type": "code",
      "source": [
        "!wget https://github.com/hhmida/datasets/raw/master/flights.csv"
      ],
      "metadata": {
        "colab": {
          "base_uri": "https://localhost:8080/"
        },
        "id": "P9iY3IReV0zm",
        "outputId": "7ab6f11e-bc1a-4104-df66-b76012ace7f6"
      },
      "execution_count": null,
      "outputs": [
        {
          "output_type": "stream",
          "name": "stdout",
          "text": [
            "--2022-12-12 15:54:35--  https://github.com/hhmida/datasets/raw/master/flights.csv\n",
            "Resolving github.com (github.com)... 140.82.114.4\n",
            "Connecting to github.com (github.com)|140.82.114.4|:443... connected.\n",
            "HTTP request sent, awaiting response... 302 Found\n",
            "Location: https://raw.githubusercontent.com/hhmida/datasets/master/flights.csv [following]\n",
            "--2022-12-12 15:54:35--  https://raw.githubusercontent.com/hhmida/datasets/master/flights.csv\n",
            "Resolving raw.githubusercontent.com (raw.githubusercontent.com)... 185.199.108.133, 185.199.109.133, 185.199.110.133, ...\n",
            "Connecting to raw.githubusercontent.com (raw.githubusercontent.com)|185.199.108.133|:443... connected.\n",
            "HTTP request sent, awaiting response... 200 OK\n",
            "Length: 17698856 (17M) [text/plain]\n",
            "Saving to: ‘flights.csv.1’\n",
            "\n",
            "flights.csv.1       100%[===================>]  16.88M  --.-KB/s    in 0.1s    \n",
            "\n",
            "2022-12-12 15:54:35 (132 MB/s) - ‘flights.csv.1’ saved [17698856/17698856]\n",
            "\n"
          ]
        }
      ]
    },
    {
      "cell_type": "markdown",
      "source": [
        "## Importer les librairies Spark SQL et Spark ML "
      ],
      "metadata": {
        "id": "kXH_Cfb-V3HW"
      }
    },
    {
      "cell_type": "code",
      "source": [
        "from pyspark.sql import SparkSession\n",
        "spark =  SparkSession.builder.appName('Spark ML').getOrCreate()\n",
        "\n",
        "# Pour créer un pipeline\n",
        "from pyspark.ml import Pipeline\n",
        "\n",
        "# Estimator de type Régression logistique pour la classification\n",
        "from pyspark.ml.classification import LogisticRegression\n",
        "\n",
        "# La préparation des données pour la regression logistique\n",
        "from pyspark.ml.feature import VectorAssembler, StringIndexer, MinMaxScaler"
      ],
      "metadata": {
        "scrolled": false,
        "id": "89uydE8ovVO6"
      },
      "outputs": [],
      "execution_count": null
    },
    {
      "cell_type": "markdown",
      "source": [
        "## Charger et explorer le dataset\n",
        "\n",
        "Notre dataset est sous forme de fichier csv **flights.csv**"
      ],
      "metadata": {
        "id": "urn2ip-0vVO8"
      }
    },
    {
      "cell_type": "code",
      "source": [
        "flightSchema = \"DayofMonth int,DayOfWeek int,Carrier string,OriginAirportID string,DestAirportID string, DepDelay int, ArrDelay int, Late int\"\n",
        "data = spark.read.csv('flights.csv', schema=flightSchema, header=True)\n",
        "data.show()"
      ],
      "metadata": {
        "scrolled": false,
        "colab": {
          "base_uri": "https://localhost:8080/"
        },
        "id": "IlbHL7gUvVO9",
        "outputId": "fc98a82e-c166-4146-f641-d58d5721a0eb"
      },
      "outputs": [
        {
          "output_type": "stream",
          "name": "stdout",
          "text": [
            "+----------+---------+-------+---------------+-------------+--------+--------+----+\n",
            "|DayofMonth|DayOfWeek|Carrier|OriginAirportID|DestAirportID|DepDelay|ArrDelay|Late|\n",
            "+----------+---------+-------+---------------+-------------+--------+--------+----+\n",
            "|        21|        2|     WN|          10721|        13342|      26|      57|   1|\n",
            "|        13|        1|     AA|          15016|        12892|      51|      27|   1|\n",
            "|         5|        5|     FL|          10397|        11433|       9|       4|   0|\n",
            "|        22|        1|     US|          11278|        14100|      35|      71|   1|\n",
            "|        23|        4|     WN|          12451|        10693|       9|       5|   0|\n",
            "|         5|        7|     AA|          11298|        15016|      39|      42|   1|\n",
            "|         4|        6|     UA|          13930|        14307|      71|      58|   1|\n",
            "|        10|        3|     9E|          14307|        11433|      68|     140|   1|\n",
            "|        29|        7|     UA|          14057|        14771|     130|     125|   1|\n",
            "|        14|        7|     UA|          14771|        11292|      20|      42|   1|\n",
            "|        14|        6|     UA|          12892|        11618|       6|     -21|   0|\n",
            "|        16|        3|     AA|          11298|        13204|       5|      -7|   0|\n",
            "|         7|        3|     VX|          14747|        14771|     143|     129|   1|\n",
            "|        20|        2|     DL|          13204|        12478|       9|       5|   0|\n",
            "|        28|        5|     DL|          11292|        13487|       1|      -3|   0|\n",
            "|        17|        6|     MQ|          11042|        13303|      12|      26|   1|\n",
            "|         3|        3|     EV|          12266|        15016|      20|       3|   0|\n",
            "|         2|        4|     DL|          10397|        13198|      32|      23|   0|\n",
            "|         4|        5|     WN|          12889|        13342|      90|      80|   1|\n",
            "|        25|        6|     UA|          10721|        12266|      -5|     -27|   0|\n",
            "+----------+---------+-------+---------------+-------------+--------+--------+----+\n",
            "only showing top 20 rows\n",
            "\n"
          ]
        }
      ],
      "execution_count": null
    },
    {
      "cell_type": "code",
      "source": [
        "data.count()"
      ],
      "metadata": {
        "colab": {
          "base_uri": "https://localhost:8080/"
        },
        "id": "KG0MNyB_7MXS",
        "outputId": "d1ea3ff2-951d-4691-af4f-c87cb22cb9c0"
      },
      "execution_count": null,
      "outputs": [
        {
          "output_type": "execute_result",
          "data": {
            "text/plain": [
              "637083"
            ]
          },
          "metadata": {},
          "execution_count": 23
        }
      ]
    },
    {
      "cell_type": "code",
      "source": [
        "from pyspark.sql.functions import *\n",
        "data.groupby().agg(min(\"DepDelay\"),max(\"DepDelay\"),mean(\"DepDelay\"),min(\"ArrDelay\"),max(\"ArrDelay\"),mean(\"ArrDelay\")).show()"
      ],
      "metadata": {
        "colab": {
          "base_uri": "https://localhost:8080/"
        },
        "id": "IlfJg_lorWIv",
        "outputId": "92d0c5f9-fd57-4a1d-bbdc-5f8b190d1e48"
      },
      "execution_count": null,
      "outputs": [
        {
          "output_type": "stream",
          "name": "stdout",
          "text": [
            "+-------------+-------------+-----------------+-------------+-------------+-----------------+\n",
            "|min(DepDelay)|max(DepDelay)|    avg(DepDelay)|min(ArrDelay)|max(ArrDelay)|    avg(ArrDelay)|\n",
            "+-------------+-------------+-----------------+-------------+-------------+-----------------+\n",
            "|          -52|          149|28.89959706976956|          -86|          149|29.31866177562421|\n",
            "+-------------+-------------+-----------------+-------------+-------------+-----------------+\n",
            "\n"
          ]
        }
      ]
    },
    {
      "cell_type": "code",
      "source": [
        "from pyspark.ml.stat import Correlation\n",
        "va = VectorAssembler(inputCols=[\"DayofMonth\", \"DayOfWeek\", \"DepDelay\", \"ArrDelay\",\"Late\"], outputCol=\"features\")"
      ],
      "metadata": {
        "id": "rEARpULzLpgY"
      },
      "execution_count": null,
      "outputs": []
    },
    {
      "cell_type": "code",
      "source": [
        "newData =va.transform(data)"
      ],
      "metadata": {
        "id": "LnJ_ViAsLx18"
      },
      "execution_count": null,
      "outputs": []
    },
    {
      "cell_type": "code",
      "source": [
        "newData.show()"
      ],
      "metadata": {
        "colab": {
          "base_uri": "https://localhost:8080/"
        },
        "id": "wQWyt5sENLqO",
        "outputId": "edbdd033-45d8-48ce-9492-77006686f939"
      },
      "execution_count": null,
      "outputs": [
        {
          "output_type": "stream",
          "name": "stdout",
          "text": [
            "+----------+---------+-------+---------------+-------------+--------+--------+----+--------------------+\n",
            "|DayofMonth|DayOfWeek|Carrier|OriginAirportID|DestAirportID|DepDelay|ArrDelay|Late|            features|\n",
            "+----------+---------+-------+---------------+-------------+--------+--------+----+--------------------+\n",
            "|        21|        2|     WN|          10721|        13342|      26|      57|   1|[21.0,2.0,26.0,57...|\n",
            "|        13|        1|     AA|          15016|        12892|      51|      27|   1|[13.0,1.0,51.0,27...|\n",
            "|         5|        5|     FL|          10397|        11433|       9|       4|   0|[5.0,5.0,9.0,4.0,...|\n",
            "|        22|        1|     US|          11278|        14100|      35|      71|   1|[22.0,1.0,35.0,71...|\n",
            "|        23|        4|     WN|          12451|        10693|       9|       5|   0|[23.0,4.0,9.0,5.0...|\n",
            "|         5|        7|     AA|          11298|        15016|      39|      42|   1|[5.0,7.0,39.0,42....|\n",
            "|         4|        6|     UA|          13930|        14307|      71|      58|   1|[4.0,6.0,71.0,58....|\n",
            "|        10|        3|     9E|          14307|        11433|      68|     140|   1|[10.0,3.0,68.0,14...|\n",
            "|        29|        7|     UA|          14057|        14771|     130|     125|   1|[29.0,7.0,130.0,1...|\n",
            "|        14|        7|     UA|          14771|        11292|      20|      42|   1|[14.0,7.0,20.0,42...|\n",
            "|        14|        6|     UA|          12892|        11618|       6|     -21|   0|[14.0,6.0,6.0,-21...|\n",
            "|        16|        3|     AA|          11298|        13204|       5|      -7|   0|[16.0,3.0,5.0,-7....|\n",
            "|         7|        3|     VX|          14747|        14771|     143|     129|   1|[7.0,3.0,143.0,12...|\n",
            "|        20|        2|     DL|          13204|        12478|       9|       5|   0|[20.0,2.0,9.0,5.0...|\n",
            "|        28|        5|     DL|          11292|        13487|       1|      -3|   0|[28.0,5.0,1.0,-3....|\n",
            "|        17|        6|     MQ|          11042|        13303|      12|      26|   1|[17.0,6.0,12.0,26...|\n",
            "|         3|        3|     EV|          12266|        15016|      20|       3|   0|[3.0,3.0,20.0,3.0...|\n",
            "|         2|        4|     DL|          10397|        13198|      32|      23|   0|[2.0,4.0,32.0,23....|\n",
            "|         4|        5|     WN|          12889|        13342|      90|      80|   1|[4.0,5.0,90.0,80....|\n",
            "|        25|        6|     UA|          10721|        12266|      -5|     -27|   0|[25.0,6.0,-5.0,-2...|\n",
            "+----------+---------+-------+---------------+-------------+--------+--------+----+--------------------+\n",
            "only showing top 20 rows\n",
            "\n"
          ]
        }
      ]
    },
    {
      "cell_type": "code",
      "source": [
        "r1 = Correlation.corr(newData, \"features\").head()\n",
        "print(\"Pearson correlation matrix:\\n\" + str(r1[0]))"
      ],
      "metadata": {
        "colab": {
          "base_uri": "https://localhost:8080/"
        },
        "id": "O3IXr65BU2xg",
        "outputId": "e5a0cd68-0c7b-4348-8196-a8861cf07013"
      },
      "execution_count": null,
      "outputs": [
        {
          "output_type": "stream",
          "name": "stdout",
          "text": [
            "Pearson correlation matrix:\n",
            "DenseMatrix([[ 1.        ,  0.02932506,  0.00345172,  0.00521996,  0.00760964],\n",
            "             [ 0.02932506,  1.        , -0.00797621, -0.01716528, -0.01259032],\n",
            "             [ 0.00345172, -0.00797621,  1.        ,  0.89696607,  0.70494444],\n",
            "             [ 0.00521996, -0.01716528,  0.89696607,  1.        ,  0.80351383],\n",
            "             [ 0.00760964, -0.01259032,  0.70494444,  0.80351383,  1.        ]])\n"
          ]
        }
      ]
    },
    {
      "cell_type": "markdown",
      "source": [
        "## Découper le dataset en training set et test set\n",
        "Dans ce qui suit 70% des données pour le training et 30% pour le test."
      ],
      "metadata": {
        "id": "3a6ihafjvVO-"
      }
    },
    {
      "cell_type": "code",
      "source": [
        "splits = data.randomSplit([0.7, 0.3])\n",
        "train = splits[0]\n",
        "test = splits[1]\n",
        "train_rows = train.count()\n",
        "test_rows = test.count()\n",
        "print (\"Training Rows:\", train_rows, \" Testing Rows:\", test_rows)"
      ],
      "metadata": {
        "colab": {
          "base_uri": "https://localhost:8080/"
        },
        "id": "diM6YyEsvVO_",
        "outputId": "9051638b-50e5-4982-a803-e9e1863c05b8"
      },
      "outputs": [
        {
          "output_type": "stream",
          "name": "stdout",
          "text": [
            "Training Rows: 445647  Testing Rows: 191436\n"
          ]
        }
      ],
      "execution_count": null
    },
    {
      "cell_type": "markdown",
      "source": [
        "## Définir le Pipeline\n",
        "Les étapes d'un pipeline dépendent de type d'apprentissage (supervisé, non supervisé, ...) et le type du problème et l'algorithme utilisé (classification, régression linéaire, arbre de décision, ...).\n",
        "\n",
        "Dans cet exemple, il s'agit de problème de classification avec l'algorithme de régression logistique. Alors, le pipeline est constitué des éléments suivants :\n",
        "\n",
        "- **StringIndexer** pour transformer les colonnes catégoriques en colonne numériques.\n",
        "- **VectorAssembler** pour créer un vecteur des valeurs numériques continues.\n",
        "- **MinMaxScaler** pour normaliser les valeurs numériques dans l'intervalle [0,1].\n",
        "- **VectorAssembler** pour regrouper les colonnes catégoriques et numériques en une seule colonne vecteur.\n",
        "- **LogisticRegression** l'algorithme d'apprentissage pour le modèle de classification."
      ],
      "metadata": {
        "id": "iTll3QVBvVPA"
      }
    },
    {
      "cell_type": "code",
      "source": [
        "from pyspark.ml.regression import LinearRegression"
      ],
      "metadata": {
        "id": "C4IqJwFGEImq"
      },
      "execution_count": null,
      "outputs": []
    },
    {
      "cell_type": "code",
      "source": [
        "monthdayIndexer = StringIndexer(inputCol=\"DayofMonth\", outputCol=\"DayofMonthIdx\")\n",
        "weekdayIndexer = StringIndexer(inputCol=\"DayOfWeek\", outputCol=\"DayOfWeekIdx\")\n",
        "carrierIndexer = StringIndexer(inputCol=\"Carrier\", outputCol=\"CarrierIdx\")\n",
        "originIndexer = StringIndexer(inputCol=\"OriginAirportID\", outputCol=\"OriginAirportIdx\")\n",
        "destIndexer = StringIndexer(inputCol=\"DestAirportID\", outputCol=\"DestAirportIdx\")\n",
        "numVect = VectorAssembler(inputCols = [\"DepDelay\"], outputCol=\"numFeatures\")\n",
        "minMax = MinMaxScaler(inputCol = numVect.getOutputCol(), outputCol=\"normNums\")\n",
        "featVect = VectorAssembler(inputCols=[\"DayofMonthIdx\", \"DayOfWeekIdx\", \"CarrierIdx\", \"OriginAirportIdx\", \"DestAirportIdx\", \"normNums\"], outputCol=\"features\")\n",
        "lr = LinearRegression(labelCol=\"ArrDelay\", featuresCol=\"features\")\n",
        "pipeline = Pipeline(stages=[monthdayIndexer, weekdayIndexer, carrierIndexer, originIndexer, destIndexer, numVect, minMax, featVect, lr])"
      ],
      "metadata": {
        "id": "7V2q7_S5vVPB"
      },
      "outputs": [],
      "execution_count": null
    },
    {
      "cell_type": "markdown",
      "source": [
        "### Exécuter le Pipeline sur le training set\n"
      ],
      "metadata": {
        "id": "_x-CAr57vVPC"
      }
    },
    {
      "cell_type": "code",
      "source": [
        "piplineModel = pipeline.fit(train)\n",
        "print (\"Pipeline complete!\")"
      ],
      "metadata": {
        "scrolled": false,
        "colab": {
          "base_uri": "https://localhost:8080/"
        },
        "id": "n3e-APVIvVPD",
        "outputId": "d0fa85b5-9bbf-4374-bdeb-3ca789d13d77"
      },
      "outputs": [
        {
          "output_type": "stream",
          "name": "stdout",
          "text": [
            "Pipeline complete!\n"
          ]
        }
      ],
      "execution_count": null
    },
    {
      "cell_type": "markdown",
      "source": [
        "## Tester le modèle sur le test set"
      ],
      "metadata": {
        "id": "cUlbZ25WvVPE"
      }
    },
    {
      "cell_type": "code",
      "source": [
        "prediction = piplineModel.transform(test)\n",
        "predicted = prediction.select(\"features\", col(\"prediction\"), col(\"ArrDelay\").alias(\"trueLabel\"))\n",
        "predicted.show(100, truncate=False)"
      ],
      "metadata": {
        "scrolled": false,
        "colab": {
          "base_uri": "https://localhost:8080/"
        },
        "id": "eBVLkBlcvVPE",
        "outputId": "d5c37330-8b6b-4c29-8f43-51d1e8ba6e2e"
      },
      "outputs": [
        {
          "output_type": "stream",
          "name": "stdout",
          "text": [
            "+---------------------------------------------+--------------------+---------+\n",
            "|features                                     |prediction          |trueLabel|\n",
            "+---------------------------------------------+--------------------+---------+\n",
            "|[25.0,2.0,10.0,1.0,25.0,0.7263681592039801]  |91.63212261353219   |113      |\n",
            "|[25.0,2.0,10.0,18.0,12.0,0.2288557213930348] |-2.4353049663154707 |39       |\n",
            "|[25.0,2.0,10.0,8.0,12.0,0.4129353233830846]  |32.655151321598794  |83       |\n",
            "|[25.0,2.0,10.0,48.0,16.0,0.2537313432835821] |1.5203968897891684  |-12      |\n",
            "|[25.0,2.0,10.0,38.0,53.0,0.3383084577114428] |16.105886790902183  |86       |\n",
            "|[25.0,2.0,10.0,38.0,53.0,0.4129353233830846] |30.253032772769387  |27       |\n",
            "|[25.0,2.0,10.0,38.0,22.0,0.24378109452736318]|-0.43801368503966387|62       |\n",
            "|[25.0,2.0,10.0,38.0,5.0,0.5323383084577115]  |55.0187648228639    |55       |\n",
            "|[25.0,2.0,10.0,38.0,7.0,0.5621890547263682]  |60.58886077898133   |42       |\n",
            "|[25.0,2.0,10.0,38.0,49.0,0.2537313432835821] |0.24997955137827432 |-12      |\n",
            "|[25.0,2.0,10.0,38.0,1.0,0.2288557213930348]  |-2.3354372968037964 |-19      |\n",
            "|[25.0,2.0,10.0,38.0,1.0,0.6368159203980099]  |75.0022940707369    |66       |\n",
            "|[25.0,2.0,10.0,13.0,22.0,0.2537313432835821] |1.933679610813897   |0        |\n",
            "|[25.0,2.0,10.0,13.0,25.0,0.3681592039800995] |23.492826461399403  |29       |\n",
            "|[25.0,2.0,10.0,13.0,11.0,0.263681592039801]  |4.308159143191546   |26       |\n",
            "|[25.0,2.0,10.0,13.0,42.0,0.2835820895522388] |6.704913637266188   |-15      |\n",
            "|[25.0,2.0,10.0,13.0,65.0,0.25870646766169153]|0.9684302887383467  |-11      |\n",
            "|[25.0,2.0,10.0,13.0,65.0,0.8407960199004975] |111.3161689473025   |108      |\n",
            "|[25.0,2.0,10.0,13.0,59.0,0.23383084577114427]|-3.480997728662345  |-1       |\n",
            "|[25.0,2.0,10.0,49.0,34.0,0.1990049751243781] |-9.672455046509427  |-14      |\n",
            "|[25.0,2.0,10.0,12.0,10.0,0.23383084577114427]|-1.286901744643096  |-20      |\n",
            "|[25.0,2.0,10.0,12.0,19.0,0.47761194029850745]|44.5276774979572    |57       |\n",
            "|[25.0,2.0,10.0,12.0,35.0,0.5671641791044776] |60.794153183162166  |83       |\n",
            "|[25.0,2.0,10.0,12.0,22.0,0.6467661691542288] |76.46139806857865   |75       |\n",
            "|[25.0,2.0,10.0,12.0,15.0,0.2537313432835821] |2.263764425614518   |-28      |\n",
            "|[25.0,2.0,10.0,14.0,62.0,0.4577114427860696] |38.80788027539755   |77       |\n",
            "|[25.0,2.0,10.0,31.0,12.0,0.25870646766169153]|2.9711417006636864  |0        |\n",
            "|[25.0,2.0,10.0,47.0,32.0,0.2288557213930348] |-3.8860016439380587 |-8       |\n",
            "|[25.0,2.0,10.0,47.0,40.0,0.25870646766169153]|1.417807002290992   |70       |\n",
            "|[25.0,2.0,10.0,47.0,22.0,0.31343283582089554]|12.591242651992069  |1        |\n",
            "|[25.0,2.0,10.0,17.0,12.0,0.2537313432835821] |2.299826647571116   |-19      |\n",
            "|[25.0,2.0,10.0,17.0,38.0,0.582089552238806]  |63.393357291603834  |29       |\n",
            "|[25.0,2.0,10.0,54.0,15.0,0.6368159203980099] |74.0702964287704    |62       |\n",
            "|[25.0,2.0,10.0,55.0,15.0,0.6915422885572139] |84.42545386220884   |81       |\n",
            "|[25.0,2.0,10.0,0.0,12.0,0.7263681592039801]  |92.22849473822119   |77       |\n",
            "|[25.0,2.0,10.0,0.0,16.0,0.5522388059701493]  |59.0409625739388    |36       |\n",
            "|[25.0,2.0,10.0,63.0,10.0,0.5024875621890548] |48.65259317360545   |38       |\n",
            "|[25.0,2.0,10.0,67.0,15.0,0.26865671641791045]|4.025297859124507   |-20      |\n",
            "|[25.0,2.0,10.0,67.0,15.0,0.40298507462686567]|29.490160626485462  |34       |\n",
            "|[25.0,2.0,10.0,32.0,12.0,0.29850746268656714]|10.496869937728668  |40       |\n",
            "|[25.0,2.0,10.0,32.0,12.0,0.8109452736318408] |107.64060567988345  |128      |\n",
            "|[25.0,2.0,10.0,61.0,16.0,0.6019900497512438] |67.28799974606838   |55       |\n",
            "|[25.0,2.0,10.0,29.0,34.0,0.21393034825870647]|-6.454700118185642  |-24      |\n",
            "|[25.0,2.0,2.0,34.0,5.0,0.34328358208955223]  |16.686348364032305  |6        |\n",
            "|[25.0,2.0,2.0,11.0,2.0,0.25870646766169153]  |1.2326344979365658  |-11      |\n",
            "|[25.0,2.0,2.0,11.0,1.0,0.582089552238806]    |62.581314971009164  |53       |\n",
            "|[25.0,2.0,2.0,18.0,5.0,0.3980099502487562]   |27.371582669628523  |31       |\n",
            "|[25.0,2.0,2.0,18.0,5.0,0.5174129353233831]   |50.00701624061604   |26       |\n",
            "|[25.0,2.0,2.0,35.0,5.0,0.24875621890547264]  |-1.252786166263661  |9        |\n",
            "|[25.0,2.0,2.0,23.0,5.0,0.25870646766169153]  |0.8664954038221708  |8        |\n",
            "|[25.0,2.0,2.0,23.0,24.0,0.6318407960199005]  |70.75898216517832   |56       |\n",
            "|[25.0,2.0,2.0,3.0,0.0,0.35323383084577115]   |19.396445471044615  |9        |\n",
            "|[25.0,2.0,2.0,3.0,32.0,0.40298507462686567]  |27.40767713955141   |38       |\n",
            "|[25.0,2.0,2.0,3.0,27.0,0.25870646766169153]  |0.27843433284847663 |-10      |\n",
            "|[25.0,2.0,2.0,3.0,10.0,0.3034825870646766]   |9.521202633319191   |-9       |\n",
            "|[25.0,2.0,2.0,3.0,19.0,0.2537313432835821]   |-0.3096589860914989 |-16      |\n",
            "|[25.0,2.0,2.0,3.0,35.0,0.30845771144278605]  |9.35481524090877    |-4       |\n",
            "|[25.0,2.0,2.0,3.0,22.0,0.24875621890547264]  |-1.3859457064935015 |11       |\n",
            "|[25.0,2.0,2.0,3.0,15.0,0.6368159203980099]   |72.48988192741903   |73       |\n",
            "|[25.0,2.0,2.0,3.0,7.0,0.4129353233830846]    |30.403493728335278  |69       |\n",
            "|[25.0,2.0,2.0,3.0,52.0,0.6716417910447761]   |77.44977830797873   |71       |\n",
            "|[25.0,2.0,2.0,3.0,8.0,0.24378109452736318]   |-1.7077517155451076 |-3       |\n",
            "|[25.0,2.0,2.0,3.0,2.0,0.24875621890547264]   |-0.4983213401989204 |-2       |\n",
            "|[25.0,2.0,2.0,3.0,2.0,0.263681592039801]     |2.331107856174526   |-6       |\n",
            "|[25.0,2.0,2.0,3.0,2.0,0.44776119402985076]   |37.22740127811362   |26       |\n",
            "|[25.0,2.0,2.0,3.0,2.0,0.5323383084577115]    |53.26083339089644   |30       |\n",
            "|[25.0,2.0,2.0,3.0,2.0,0.6218905472636815]    |70.23740856913706   |52       |\n",
            "|[25.0,2.0,2.0,3.0,13.0,0.23880597014925373]  |-2.872800872576569  |-16      |\n",
            "|[25.0,2.0,2.0,3.0,13.0,0.25870646766169153]  |0.8997713892546813  |50       |\n",
            "|[25.0,2.0,2.0,3.0,13.0,0.5323383084577115]   |52.772639989434424  |32       |\n",
            "|[25.0,2.0,2.0,3.0,30.0,0.3233830845771144]   |12.406150528855854  |5        |\n",
            "|[25.0,2.0,2.0,3.0,14.0,0.25870646766169153]  |0.8553901709399554  |-11      |\n",
            "|[25.0,2.0,2.0,3.0,14.0,0.890547263681592]    |120.63455948408223  |121      |\n",
            "|[25.0,2.0,2.0,3.0,24.0,0.5472636815920398]   |55.11387578434582   |46       |\n",
            "|[25.0,2.0,2.0,3.0,16.0,0.2935323383084577]   |7.368629192515186   |5        |\n",
            "|[25.0,2.0,2.0,3.0,16.0,0.681592039800995]    |80.93378829822463   |74       |\n",
            "|[25.0,2.0,2.0,3.0,50.0,0.527363184079602]    |50.187391846331636  |45       |\n",
            "|[25.0,2.0,2.0,3.0,1.0,0.24378109452736318]   |-1.3970831873420053 |-13      |\n",
            "|[25.0,2.0,2.0,3.0,1.0,0.39303482587064675]   |26.89720877639239   |14       |\n",
            "|[25.0,2.0,2.0,3.0,63.0,0.3681592039800995]   |19.429857913590112  |13       |\n",
            "|[25.0,2.0,2.0,3.0,6.0,0.4577114427860696]    |38.93616253577032   |35       |\n",
            "|[25.0,2.0,2.0,3.0,34.0,0.5472636815920398]   |54.670063601198535  |37       |\n",
            "|[25.0,2.0,2.0,3.0,38.0,0.5422885572139303]   |53.549395662481814  |54       |\n",
            "|[25.0,2.0,2.0,3.0,62.0,0.2736318407960199]   |1.5545208882063903  |-8       |\n",
            "|[25.0,2.0,2.0,3.0,41.0,0.2885572139303483]   |5.315955669189151   |8        |\n",
            "|[25.0,2.0,2.0,3.0,28.0,0.5024875621890548]   |46.4480633219666    |47       |\n",
            "|[25.0,2.0,2.0,13.0,5.0,0.4527363184079602]   |37.84323782265206   |46       |\n",
            "|[25.0,2.0,2.0,13.0,5.0,0.7910447761194029]   |101.97696627378336  |85       |\n",
            "|[25.0,2.0,2.0,26.0,5.0,0.5174129353233831]   |49.851685947835904  |40       |\n",
            "|[25.0,2.0,2.0,25.0,2.0,0.25870646766169153]  |0.9608064855713252  |17       |\n",
            "|[25.0,2.0,2.0,9.0,5.0,0.2736318407960199]    |3.967752612560851   |6        |\n",
            "|[25.0,2.0,2.0,9.0,5.0,0.7512437810945274]    |94.50948689651095   |95       |\n",
            "|[25.0,2.0,2.0,9.0,12.0,0.26865671641791045]  |2.7139410188999378  |30       |\n",
            "|[25.0,2.0,2.0,12.0,2.0,0.472636815920398]    |41.768370026025025  |30       |\n",
            "|[25.0,2.0,2.0,12.0,24.0,0.22388059701492538] |-6.365170049789683  |-18      |\n",
            "|[25.0,2.0,2.0,12.0,24.0,0.2537313432835821]  |-0.7063116570428036 |-5       |\n",
            "|[25.0,2.0,2.0,12.0,24.0,0.25870646766169153] |0.23683140841500716 |1        |\n",
            "|[25.0,2.0,2.0,7.0,12.0,0.25870646766169153]  |0.8664874611793394  |-25      |\n",
            "|[25.0,2.0,2.0,2.0,5.0,0.24875621890547264]   |-0.6120487085455935 |-6       |\n",
            "|[25.0,2.0,2.0,2.0,12.0,0.46766169154228854]  |40.57557764339509   |63       |\n",
            "+---------------------------------------------+--------------------+---------+\n",
            "only showing top 100 rows\n",
            "\n"
          ]
        }
      ],
      "execution_count": null
    },
    {
      "cell_type": "markdown",
      "source": [
        "## Évaluer le modèle\n",
        "\n",
        "### Matrice de confusion\n",
        "Elle calcule le nombre de :\n",
        "- True Positives (TP)\n",
        "- True Negatives (TN)\n",
        "- False Positives (FP)\n",
        "- False Negatives (FN)\n",
        "\n",
        "Plusieurs mesures sont calculées à partir de cette matrice comme :\n",
        "$$precision = \\frac{TP}{TP+FP}$$\n",
        "$$recall(TPR) = \\frac{TP}{TP+FN}$$\n",
        "$$Accuracy = \\frac{TP+TN}{TP+TN+FP+FN}$$"
      ],
      "metadata": {
        "id": "8va0hq9SvVPF"
      }
    },
    {
      "cell_type": "code",
      "source": [
        "tp = float(predicted.filter(\"prediction == 1.0 AND truelabel == 1\").count())\n",
        "fp = float(predicted.filter(\"prediction == 1.0 AND truelabel == 0\").count())\n",
        "tn = float(predicted.filter(\"prediction == 0.0 AND truelabel == 0\").count())\n",
        "fn = float(predicted.filter(\"prediction == 0.0 AND truelabel == 1\").count())\n",
        "metrics = spark.createDataFrame([\n",
        " (\"TP\", tp),\n",
        " (\"FP\", fp),\n",
        " (\"TN\", tn),\n",
        " (\"FN\", fn),\n",
        " (\"Precision\", tp / (tp + fp)),\n",
        " (\"Recall\", tp / (tp + fn))],[\"metric\", \"value\"])\n",
        "metrics.show()"
      ],
      "metadata": {
        "colab": {
          "base_uri": "https://localhost:8080/"
        },
        "id": "5iAzWvPEPpXi",
        "outputId": "87b66958-dc9d-4569-94d6-99a80a976d8f"
      },
      "execution_count": null,
      "outputs": [
        {
          "output_type": "stream",
          "name": "stdout",
          "text": [
            "+---------+------------------+\n",
            "|   metric|             value|\n",
            "+---------+------------------+\n",
            "|       TP|           89464.0|\n",
            "|       FP|            7162.0|\n",
            "|       TN|           81711.0|\n",
            "|       FN|           13099.0|\n",
            "|Precision|  0.92587916295821|\n",
            "|   Recall|0.8722833770463032|\n",
            "+---------+------------------+\n",
            "\n"
          ]
        }
      ]
    },
    {
      "cell_type": "markdown",
      "source": [
        "### AUC"
      ],
      "metadata": {
        "id": "PXaWtjckRVgJ"
      }
    },
    {
      "cell_type": "code",
      "source": [
        "from pyspark.ml.evaluation import BinaryClassificationEvaluator\n",
        "evaluator = BinaryClassificationEvaluator(labelCol=\"Late\", rawPredictionCol=\"rawPrediction\", metricName=\"areaUnderROC\")\n",
        "auc = evaluator.evaluate(prediction)\n",
        "print (\"AUC = \", auc)"
      ],
      "metadata": {
        "colab": {
          "base_uri": "https://localhost:8080/"
        },
        "id": "GbiQPar1RYFL",
        "outputId": "04edcffd-6d0b-4465-a3c6-7d7e116be1bc"
      },
      "execution_count": null,
      "outputs": [
        {
          "output_type": "stream",
          "name": "stdout",
          "text": [
            "AUC =  0.949390862764023\n"
          ]
        }
      ]
    },
    {
      "cell_type": "code",
      "source": [
        "from pyspark.ml.evaluation import RegressionEvaluator\n",
        "myevaluator = RegressionEvaluator(labelCol=\"trueLabel\", predictionCol=\"prediction\", metricName=\"rmse\")\n",
        "rmse =myevaluator.evaluate(predicted)\n",
        "print(\"RMSE=\", rmse)"
      ],
      "metadata": {
        "colab": {
          "base_uri": "https://localhost:8080/"
        },
        "id": "kjwsU5zfEzS9",
        "outputId": "7456630b-c983-42e5-ccb7-b763d9f3f4a2"
      },
      "execution_count": null,
      "outputs": [
        {
          "output_type": "stream",
          "name": "stdout",
          "text": [
            "RMSE= 17.21261793810399\n"
          ]
        }
      ]
    }
  ],
  "metadata": {
    "kernelspec": {
      "display_name": "PySpark",
      "name": "pysparkkernel",
      "language": ""
    },
    "language_info": {
      "mimetype": "text/x-python",
      "pygments_lexer": "python2",
      "name": "pyspark",
      "codemirror_mode": {
        "version": "2",
        "name": "python"
      }
    },
    "name": "Python Pipeline",
    "notebookId": 374219277805845,
    "colab": {
      "provenance": [],
      "include_colab_link": true
    }
  },
  "nbformat": 4,
  "nbformat_minor": 0
}