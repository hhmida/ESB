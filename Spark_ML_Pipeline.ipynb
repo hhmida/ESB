{
  "cells": [
    {
      "cell_type": "markdown",
      "metadata": {
        "id": "view-in-github",
        "colab_type": "text"
      },
      "source": [
        "<a href=\"https://colab.research.google.com/github/hhmida/ESB/blob/main/Spark_ML_Pipeline.ipynb\" target=\"_parent\"><img src=\"https://colab.research.google.com/assets/colab-badge.svg\" alt=\"Open In Colab\"/></a>"
      ]
    },
    {
      "cell_type": "markdown",
      "source": [
        "# Pipeline avec Spark ML\n",
        "---\n",
        "\n",
        "Le pipeline permet d'organiser les différentes transformations et prétraitements sur les données jusqu'à la création d'un modèle. Il facilite ainsi sa configuration et sa réutilisation. Un pipeline est composé de stages de **transformers** et **estimators**. \n",
        "\n",
        "**Transformers**\n",
        "\n",
        "Il transforme un DataFrame en un nouveau DataFrame en lui ajoutant généralement une ou plusieurs colonnes. Les transformers commence par *fit()* sur le DataFrame et possèdent aussi une méthode *transform()* pour transformer le DataFrame.\n",
        "\n",
        "Exemple : StandardScaler\n",
        "```python\n",
        "from pyspark.ml.feature import StandardScaler\n",
        "dataFrame = spark.read.csv(\"data.csv\")\n",
        "scaler = StandardScaler(inputCol=\"features\", outputCol=\"scaledFeatures\",\n",
        "                        withStd=True, withMean=False)\n",
        "scalerModel = scaler.fit(dataFrame)\n",
        "scaledData = scalerModel.transform(dataFrame)\n",
        "scaledData.show()\n",
        "```\n",
        "\n",
        "**Estimators**\n",
        "\n",
        "C'est une abstraction d'un algorithme d'apprentissage qui sera entrainé sur un dataset. Sa méthode *fit()* dont le paramètre est un DataFrame produit un modèle. Ce modèle peut être utilisé ensuite pour transformer (méthode *transform()*) des données afin d'appliquer le modèle pour prédire leur classe par exemple.\n",
        "\n",
        "Exemple : LinearRegression\n",
        "\n",
        "```python\n",
        "from pyspark.ml.regression import LinearRegression\n",
        "\n",
        "#charger et préparer le dataset\n",
        "# ...\n",
        "# Créer le modèle\n",
        "lr = LinearRegression(maxIter=10, regParam=0.3, elasticNetParam=0.8)\n",
        "lrModel = lr.fit(trainingDF)\n",
        "\n",
        "# Appliquer  sur les données de test\n",
        "lrModel.transform(testDF)\n",
        "```\n",
        "Nous allons appliquer un pipeline pour un problème de classification afin de prédire si un vol serait en retard ou non.\n",
        "\n",
        "### Installer Pyspark télécharger le dataset\n",
        "\n"
      ],
      "metadata": {
        "id": "fl--c1CtvVO0"
      }
    },
    {
      "cell_type": "code",
      "source": [
        "!pip install pyspark  "
      ],
      "metadata": {
        "colab": {
          "base_uri": "https://localhost:8080/"
        },
        "id": "E4VPOCocxtIz",
        "outputId": "a3b2e92b-dd07-4d52-8d29-6789a2d8f3e5"
      },
      "execution_count": 1,
      "outputs": [
        {
          "output_type": "stream",
          "name": "stdout",
          "text": [
            "Looking in indexes: https://pypi.org/simple, https://us-python.pkg.dev/colab-wheels/public/simple/\n",
            "Collecting pyspark\n",
            "  Downloading pyspark-3.3.1.tar.gz (281.4 MB)\n",
            "\u001b[K     |████████████████████████████████| 281.4 MB 37 kB/s \n",
            "\u001b[?25hCollecting py4j==0.10.9.5\n",
            "  Downloading py4j-0.10.9.5-py2.py3-none-any.whl (199 kB)\n",
            "\u001b[K     |████████████████████████████████| 199 kB 62.0 MB/s \n",
            "\u001b[?25hBuilding wheels for collected packages: pyspark\n",
            "  Building wheel for pyspark (setup.py) ... \u001b[?25l\u001b[?25hdone\n",
            "  Created wheel for pyspark: filename=pyspark-3.3.1-py2.py3-none-any.whl size=281845512 sha256=c6e2ff38214367682111fd7fe26dbb6125525724aee4d6dabdf8922b9da46abb\n",
            "  Stored in directory: /root/.cache/pip/wheels/43/dc/11/ec201cd671da62fa9c5cc77078235e40722170ceba231d7598\n",
            "Successfully built pyspark\n",
            "Installing collected packages: py4j, pyspark\n",
            "Successfully installed py4j-0.10.9.5 pyspark-3.3.1\n"
          ]
        }
      ]
    },
    {
      "cell_type": "code",
      "source": [
        "!wget https://github.com/hhmida/datasets/raw/master/flights.csv"
      ],
      "metadata": {
        "colab": {
          "base_uri": "https://localhost:8080/"
        },
        "id": "P9iY3IReV0zm",
        "outputId": "edf3a557-7903-4f60-f163-b9f1797e2861"
      },
      "execution_count": 2,
      "outputs": [
        {
          "output_type": "stream",
          "name": "stdout",
          "text": [
            "--2022-12-12 14:14:58--  https://github.com/hhmida/datasets/raw/master/flights.csv\n",
            "Resolving github.com (github.com)... 140.82.114.4\n",
            "Connecting to github.com (github.com)|140.82.114.4|:443... connected.\n",
            "HTTP request sent, awaiting response... 302 Found\n",
            "Location: https://raw.githubusercontent.com/hhmida/datasets/master/flights.csv [following]\n",
            "--2022-12-12 14:14:58--  https://raw.githubusercontent.com/hhmida/datasets/master/flights.csv\n",
            "Resolving raw.githubusercontent.com (raw.githubusercontent.com)... 185.199.111.133, 185.199.110.133, 185.199.109.133, ...\n",
            "Connecting to raw.githubusercontent.com (raw.githubusercontent.com)|185.199.111.133|:443... connected.\n",
            "HTTP request sent, awaiting response... 200 OK\n",
            "Length: 17698856 (17M) [text/plain]\n",
            "Saving to: ‘flights.csv’\n",
            "\n",
            "flights.csv         100%[===================>]  16.88M  --.-KB/s    in 0.1s    \n",
            "\n",
            "2022-12-12 14:14:59 (124 MB/s) - ‘flights.csv’ saved [17698856/17698856]\n",
            "\n"
          ]
        }
      ]
    },
    {
      "cell_type": "markdown",
      "source": [
        "## Importer les librairies Spark SQL et Spark ML "
      ],
      "metadata": {
        "id": "kXH_Cfb-V3HW"
      }
    },
    {
      "cell_type": "code",
      "source": [
        "from pyspark.sql import SparkSession\n",
        "spark =  SparkSession.builder.appName('Spark ML').getOrCreate()\n",
        "\n",
        "# Pour créer un pipeline\n",
        "from pyspark.ml import Pipeline\n",
        "\n",
        "# Estimator de type Régression logistique pour la classification\n",
        "from pyspark.ml.classification import LogisticRegression\n",
        "\n",
        "# La préparation des données pour la regression logistique\n",
        "from pyspark.ml.feature import VectorAssembler, StringIndexer, MinMaxScaler"
      ],
      "metadata": {
        "scrolled": false,
        "id": "89uydE8ovVO6"
      },
      "outputs": [],
      "execution_count": 3
    },
    {
      "cell_type": "markdown",
      "source": [
        "## Charger et explorer le dataset\n",
        "\n",
        "Notre dataset est sous forme de fichier csv **flights.csv**"
      ],
      "metadata": {
        "id": "urn2ip-0vVO8"
      }
    },
    {
      "cell_type": "code",
      "source": [
        "flightSchema = \"DayofMonth int,DayOfWeek int,Carrier string,OriginAirportID string,DestAirportID string, DepDelay int, ArrDelay int, Late int\"\n",
        "data = spark.read.csv('flights.csv', schema=flightSchema, header=True)\n",
        "data.show()"
      ],
      "metadata": {
        "scrolled": false,
        "colab": {
          "base_uri": "https://localhost:8080/"
        },
        "id": "IlbHL7gUvVO9",
        "outputId": "e69bed2a-e67c-4728-bc04-984468071f08"
      },
      "outputs": [
        {
          "output_type": "stream",
          "name": "stdout",
          "text": [
            "+----------+---------+-------+---------------+-------------+--------+--------+----+\n",
            "|DayofMonth|DayOfWeek|Carrier|OriginAirportID|DestAirportID|DepDelay|ArrDelay|Late|\n",
            "+----------+---------+-------+---------------+-------------+--------+--------+----+\n",
            "|        21|        2|     WN|          10721|        13342|      26|      57|   1|\n",
            "|        13|        1|     AA|          15016|        12892|      51|      27|   1|\n",
            "|         5|        5|     FL|          10397|        11433|       9|       4|   0|\n",
            "|        22|        1|     US|          11278|        14100|      35|      71|   1|\n",
            "|        23|        4|     WN|          12451|        10693|       9|       5|   0|\n",
            "|         5|        7|     AA|          11298|        15016|      39|      42|   1|\n",
            "|         4|        6|     UA|          13930|        14307|      71|      58|   1|\n",
            "|        10|        3|     9E|          14307|        11433|      68|     140|   1|\n",
            "|        29|        7|     UA|          14057|        14771|     130|     125|   1|\n",
            "|        14|        7|     UA|          14771|        11292|      20|      42|   1|\n",
            "|        14|        6|     UA|          12892|        11618|       6|     -21|   0|\n",
            "|        16|        3|     AA|          11298|        13204|       5|      -7|   0|\n",
            "|         7|        3|     VX|          14747|        14771|     143|     129|   1|\n",
            "|        20|        2|     DL|          13204|        12478|       9|       5|   0|\n",
            "|        28|        5|     DL|          11292|        13487|       1|      -3|   0|\n",
            "|        17|        6|     MQ|          11042|        13303|      12|      26|   1|\n",
            "|         3|        3|     EV|          12266|        15016|      20|       3|   0|\n",
            "|         2|        4|     DL|          10397|        13198|      32|      23|   0|\n",
            "|         4|        5|     WN|          12889|        13342|      90|      80|   1|\n",
            "|        25|        6|     UA|          10721|        12266|      -5|     -27|   0|\n",
            "+----------+---------+-------+---------------+-------------+--------+--------+----+\n",
            "only showing top 20 rows\n",
            "\n"
          ]
        }
      ],
      "execution_count": 4
    },
    {
      "cell_type": "code",
      "source": [
        "data.count()"
      ],
      "metadata": {
        "colab": {
          "base_uri": "https://localhost:8080/"
        },
        "id": "KG0MNyB_7MXS",
        "outputId": "52e1dcd8-e18e-4950-f3b9-51f9f026904a"
      },
      "execution_count": 5,
      "outputs": [
        {
          "output_type": "execute_result",
          "data": {
            "text/plain": [
              "637083"
            ]
          },
          "metadata": {},
          "execution_count": 5
        }
      ]
    },
    {
      "cell_type": "code",
      "source": [
        "from pyspark.sql.functions import *\n",
        "data.groupby().agg(min(\"DepDelay\"),max(\"DepDelay\"),mean(\"DepDelay\"),min(\"ArrDelay\"),max(\"ArrDelay\"),mean(\"ArrDelay\")).show()"
      ],
      "metadata": {
        "colab": {
          "base_uri": "https://localhost:8080/"
        },
        "id": "IlfJg_lorWIv",
        "outputId": "7621ce78-c402-447b-c30f-5b75d9439fc9"
      },
      "execution_count": 6,
      "outputs": [
        {
          "output_type": "stream",
          "name": "stdout",
          "text": [
            "+-------------+-------------+-----------------+-------------+-------------+-----------------+\n",
            "|min(DepDelay)|max(DepDelay)|    avg(DepDelay)|min(ArrDelay)|max(ArrDelay)|    avg(ArrDelay)|\n",
            "+-------------+-------------+-----------------+-------------+-------------+-----------------+\n",
            "|          -52|          149|28.89959706976956|          -86|          149|29.31866177562421|\n",
            "+-------------+-------------+-----------------+-------------+-------------+-----------------+\n",
            "\n"
          ]
        }
      ]
    },
    {
      "cell_type": "code",
      "source": [
        "from pyspark.ml.stat import Correlation\n",
        "va = VectorAssembler(inputCols=[\"DayofMonth\", \"DayOfWeek\", \"DepDelay\", \"ArrDelay\",\"Late\"], outputCol=\"features\")"
      ],
      "metadata": {
        "id": "rEARpULzLpgY"
      },
      "execution_count": 7,
      "outputs": []
    },
    {
      "cell_type": "code",
      "source": [
        "newData =va.transform(data)"
      ],
      "metadata": {
        "id": "LnJ_ViAsLx18"
      },
      "execution_count": 9,
      "outputs": []
    },
    {
      "cell_type": "code",
      "source": [
        "newData.show()"
      ],
      "metadata": {
        "colab": {
          "base_uri": "https://localhost:8080/"
        },
        "id": "wQWyt5sENLqO",
        "outputId": "1dbe5390-6288-4fcb-e28a-7e81f849ad8e"
      },
      "execution_count": 10,
      "outputs": [
        {
          "output_type": "stream",
          "name": "stdout",
          "text": [
            "+----------+---------+-------+---------------+-------------+--------+--------+----+--------------------+\n",
            "|DayofMonth|DayOfWeek|Carrier|OriginAirportID|DestAirportID|DepDelay|ArrDelay|Late|            features|\n",
            "+----------+---------+-------+---------------+-------------+--------+--------+----+--------------------+\n",
            "|        21|        2|     WN|          10721|        13342|      26|      57|   1|[21.0,2.0,26.0,57...|\n",
            "|        13|        1|     AA|          15016|        12892|      51|      27|   1|[13.0,1.0,51.0,27...|\n",
            "|         5|        5|     FL|          10397|        11433|       9|       4|   0|[5.0,5.0,9.0,4.0,...|\n",
            "|        22|        1|     US|          11278|        14100|      35|      71|   1|[22.0,1.0,35.0,71...|\n",
            "|        23|        4|     WN|          12451|        10693|       9|       5|   0|[23.0,4.0,9.0,5.0...|\n",
            "|         5|        7|     AA|          11298|        15016|      39|      42|   1|[5.0,7.0,39.0,42....|\n",
            "|         4|        6|     UA|          13930|        14307|      71|      58|   1|[4.0,6.0,71.0,58....|\n",
            "|        10|        3|     9E|          14307|        11433|      68|     140|   1|[10.0,3.0,68.0,14...|\n",
            "|        29|        7|     UA|          14057|        14771|     130|     125|   1|[29.0,7.0,130.0,1...|\n",
            "|        14|        7|     UA|          14771|        11292|      20|      42|   1|[14.0,7.0,20.0,42...|\n",
            "|        14|        6|     UA|          12892|        11618|       6|     -21|   0|[14.0,6.0,6.0,-21...|\n",
            "|        16|        3|     AA|          11298|        13204|       5|      -7|   0|[16.0,3.0,5.0,-7....|\n",
            "|         7|        3|     VX|          14747|        14771|     143|     129|   1|[7.0,3.0,143.0,12...|\n",
            "|        20|        2|     DL|          13204|        12478|       9|       5|   0|[20.0,2.0,9.0,5.0...|\n",
            "|        28|        5|     DL|          11292|        13487|       1|      -3|   0|[28.0,5.0,1.0,-3....|\n",
            "|        17|        6|     MQ|          11042|        13303|      12|      26|   1|[17.0,6.0,12.0,26...|\n",
            "|         3|        3|     EV|          12266|        15016|      20|       3|   0|[3.0,3.0,20.0,3.0...|\n",
            "|         2|        4|     DL|          10397|        13198|      32|      23|   0|[2.0,4.0,32.0,23....|\n",
            "|         4|        5|     WN|          12889|        13342|      90|      80|   1|[4.0,5.0,90.0,80....|\n",
            "|        25|        6|     UA|          10721|        12266|      -5|     -27|   0|[25.0,6.0,-5.0,-2...|\n",
            "+----------+---------+-------+---------------+-------------+--------+--------+----+--------------------+\n",
            "only showing top 20 rows\n",
            "\n"
          ]
        }
      ]
    },
    {
      "cell_type": "code",
      "source": [
        "r1 = Correlation.corr(newData, \"features\").head()\n",
        "print(\"Pearson correlation matrix:\\n\" + str(r1[0]))"
      ],
      "metadata": {
        "colab": {
          "base_uri": "https://localhost:8080/"
        },
        "id": "O3IXr65BU2xg",
        "outputId": "1d721602-639c-419e-c141-db1089ffcca0"
      },
      "execution_count": 11,
      "outputs": [
        {
          "output_type": "stream",
          "name": "stdout",
          "text": [
            "Pearson correlation matrix:\n",
            "DenseMatrix([[ 1.        ,  0.02932506,  0.00345172,  0.00521996,  0.00760964],\n",
            "             [ 0.02932506,  1.        , -0.00797621, -0.01716528, -0.01259032],\n",
            "             [ 0.00345172, -0.00797621,  1.        ,  0.89696607,  0.70494444],\n",
            "             [ 0.00521996, -0.01716528,  0.89696607,  1.        ,  0.80351383],\n",
            "             [ 0.00760964, -0.01259032,  0.70494444,  0.80351383,  1.        ]])\n"
          ]
        }
      ]
    },
    {
      "cell_type": "markdown",
      "source": [
        "## Découper le dataset en training set et test set\n",
        "Dans ce qui suit 70% des données pour le training et 30% pour le test."
      ],
      "metadata": {
        "id": "3a6ihafjvVO-"
      }
    },
    {
      "cell_type": "code",
      "source": [
        "splits = data.randomSplit([0.7, 0.3])\n",
        "train = splits[0]\n",
        "test = splits[1]\n",
        "train_rows = train.count()\n",
        "test_rows = test.count()\n",
        "print (\"Training Rows:\", train_rows, \" Testing Rows:\", test_rows)"
      ],
      "metadata": {
        "colab": {
          "base_uri": "https://localhost:8080/"
        },
        "id": "diM6YyEsvVO_",
        "outputId": "04a3254c-94ad-4ab1-bacb-c7aba4434a73"
      },
      "outputs": [
        {
          "output_type": "stream",
          "name": "stdout",
          "text": [
            "Training Rows: 446788  Testing Rows: 190295\n"
          ]
        }
      ],
      "execution_count": 14
    },
    {
      "cell_type": "markdown",
      "source": [
        "## Définir le Pipeline\n",
        "Les étapes d'un pipeline dépendent de type d'apprentissage (supervisé, non supervisé, ...) et le type du problème et l'algorithme utilisé (classification, régression linéaire, arbre de décision, ...).\n",
        "\n",
        "Dans cet exemple, il s'agit de problème de classification avec l'algorithme de régression logistique. Alors, le pipeline est constitué des éléments suivants :\n",
        "\n",
        "- **StringIndexer** pour transformer les colonnes catégoriques en colonne numériques.\n",
        "- **VectorAssembler** pour créer un vecteur des valeurs numériques continues.\n",
        "- **MinMaxScaler** pour normaliser les valeurs numériques dans l'intervalle [0,1].\n",
        "- **VectorAssembler** pour regrouper les colonnes catégoriques et numériques en une seule colonne vecteur.\n",
        "- **LogisticRegression** l'algorithme d'apprentissage pour le modèle de classification."
      ],
      "metadata": {
        "id": "iTll3QVBvVPA"
      }
    },
    {
      "cell_type": "code",
      "source": [
        "monthdayIndexer = StringIndexer(inputCol=\"DayofMonth\", outputCol=\"DayofMonthIdx\")\n",
        "weekdayIndexer = StringIndexer(inputCol=\"DayOfWeek\", outputCol=\"DayOfWeekIdx\")\n",
        "carrierIndexer = StringIndexer(inputCol=\"Carrier\", outputCol=\"CarrierIdx\")\n",
        "originIndexer = StringIndexer(inputCol=\"OriginAirportID\", outputCol=\"OriginAirportIdx\")\n",
        "destIndexer = StringIndexer(inputCol=\"DestAirportID\", outputCol=\"DestAirportIdx\")\n",
        "numVect = VectorAssembler(inputCols = [\"DepDelay\"], outputCol=\"numFeatures\")\n",
        "minMax = MinMaxScaler(inputCol = numVect.getOutputCol(), outputCol=\"normNums\")\n",
        "featVect = VectorAssembler(inputCols=[\"DayofMonthIdx\", \"DayOfWeekIdx\", \"CarrierIdx\", \"OriginAirportIdx\", \"DestAirportIdx\", \"normNums\"], outputCol=\"features\")\n",
        "lr = LogisticRegression(labelCol=\"Late\", featuresCol=\"features\")\n",
        "pipeline = Pipeline(stages=[monthdayIndexer, weekdayIndexer, carrierIndexer, originIndexer, destIndexer, numVect, minMax, featVect, lr])"
      ],
      "metadata": {
        "id": "7V2q7_S5vVPB"
      },
      "outputs": [],
      "execution_count": 12
    },
    {
      "cell_type": "markdown",
      "source": [
        "### Exécuter le Pipeline sur le training set\n"
      ],
      "metadata": {
        "id": "_x-CAr57vVPC"
      }
    },
    {
      "cell_type": "code",
      "source": [
        "piplineModel = pipeline.fit(train)\n",
        "print (\"Pipeline complete!\")"
      ],
      "metadata": {
        "scrolled": false,
        "colab": {
          "base_uri": "https://localhost:8080/"
        },
        "id": "n3e-APVIvVPD",
        "outputId": "c16c3b1a-ca9e-49b7-a13b-c79bef50db6c"
      },
      "outputs": [
        {
          "output_type": "stream",
          "name": "stdout",
          "text": [
            "Pipeline complete!\n"
          ]
        }
      ],
      "execution_count": 15
    },
    {
      "cell_type": "markdown",
      "source": [
        "## Tester le modèle sur le test set"
      ],
      "metadata": {
        "id": "cUlbZ25WvVPE"
      }
    },
    {
      "cell_type": "code",
      "source": [
        "prediction = piplineModel.transform(test)\n",
        "predicted = prediction.select(\"features\", col(\"prediction\").cast(\"Int\"), col(\"Late\").alias(\"trueLabel\"))\n",
        "predicted.show(100, truncate=False)"
      ],
      "metadata": {
        "scrolled": false,
        "colab": {
          "base_uri": "https://localhost:8080/"
        },
        "id": "eBVLkBlcvVPE",
        "outputId": "00e91d20-82f5-4eb2-df79-ee330d585064"
      },
      "outputs": [
        {
          "output_type": "stream",
          "name": "stdout",
          "text": [
            "+---------------------------------------------+----------+---------+\n",
            "|features                                     |prediction|trueLabel|\n",
            "+---------------------------------------------+----------+---------+\n",
            "|[25.0,2.0,10.0,11.0,12.0,0.4427860696517413] |1         |1        |\n",
            "|[25.0,2.0,10.0,18.0,12.0,0.2288557213930348] |0         |1        |\n",
            "|[25.0,2.0,10.0,37.0,54.0,0.3383084577114428] |0         |1        |\n",
            "|[25.0,2.0,10.0,37.0,19.0,0.5522388059701493] |1         |1        |\n",
            "|[25.0,2.0,10.0,37.0,9.0,0.22388059701492538] |0         |0        |\n",
            "|[25.0,2.0,10.0,37.0,22.0,0.24378109452736318]|0         |1        |\n",
            "|[25.0,2.0,10.0,37.0,22.0,0.9950248756218906] |1         |1        |\n",
            "|[25.0,2.0,10.0,37.0,7.0,0.3582089552238806]  |1         |0        |\n",
            "|[25.0,2.0,10.0,37.0,30.0,0.27860696517412936]|0         |0        |\n",
            "|[25.0,2.0,10.0,37.0,49.0,0.2537313432835821] |0         |0        |\n",
            "|[25.0,2.0,10.0,37.0,1.0,0.5572139303482587]  |1         |1        |\n",
            "|[25.0,2.0,10.0,37.0,1.0,0.6368159203980099]  |1         |1        |\n",
            "|[25.0,2.0,10.0,23.0,12.0,0.5472636815920398] |1         |1        |\n",
            "|[25.0,2.0,10.0,3.0,16.0,0.23383084577114427] |0         |0        |\n",
            "|[25.0,2.0,10.0,14.0,33.0,0.24378109452736318]|0         |0        |\n",
            "|[25.0,2.0,10.0,14.0,25.0,0.3681592039800995] |1         |1        |\n",
            "|[25.0,2.0,10.0,14.0,20.0,0.23880597014925373]|0         |0        |\n",
            "|[25.0,2.0,10.0,14.0,50.0,0.263681592039801]  |0         |0        |\n",
            "|[25.0,2.0,10.0,14.0,65.0,0.8407960199004975] |1         |1        |\n",
            "|[25.0,2.0,10.0,14.0,58.0,0.23383084577114427]|0         |0        |\n",
            "|[25.0,2.0,10.0,14.0,58.0,0.5174129353233831] |1         |1        |\n",
            "|[25.0,2.0,10.0,47.0,15.0,0.7064676616915423] |1         |1        |\n",
            "|[25.0,2.0,10.0,12.0,19.0,0.40298507462686567]|1         |0        |\n",
            "|[25.0,2.0,10.0,12.0,22.0,0.6467661691542288] |1         |1        |\n",
            "|[25.0,2.0,10.0,12.0,22.0,0.7014925373134329] |1         |1        |\n",
            "|[25.0,2.0,10.0,12.0,25.0,0.900497512437811]  |1         |1        |\n",
            "|[25.0,2.0,10.0,12.0,16.0,0.7611940298507462] |1         |1        |\n",
            "|[25.0,2.0,10.0,13.0,62.0,0.4577114427860696] |1         |1        |\n",
            "|[25.0,2.0,10.0,16.0,15.0,0.527363184079602]  |1         |1        |\n",
            "|[25.0,2.0,10.0,46.0,41.0,0.25870646766169153]|0         |1        |\n",
            "|[25.0,2.0,10.0,17.0,19.0,0.7064676616915423] |1         |1        |\n",
            "|[25.0,2.0,10.0,17.0,41.0,0.22388059701492538]|0         |0        |\n",
            "|[25.0,2.0,10.0,17.0,41.0,0.2537313432835821] |0         |1        |\n",
            "|[25.0,2.0,10.0,17.0,12.0,0.2537313432835821] |0         |0        |\n",
            "|[25.0,2.0,10.0,0.0,12.0,0.8955223880597015]  |1         |1        |\n",
            "|[25.0,2.0,10.0,64.0,10.0,0.5024875621890548] |1         |1        |\n",
            "|[25.0,2.0,10.0,20.0,12.0,0.5472636815920398] |1         |1        |\n",
            "|[25.0,2.0,10.0,67.0,15.0,0.26865671641791045]|0         |0        |\n",
            "|[25.0,2.0,10.0,61.0,15.0,0.22388059701492538]|0         |0        |\n",
            "|[25.0,2.0,10.0,61.0,16.0,0.6019900497512438] |1         |1        |\n",
            "|[25.0,2.0,2.0,1.0,5.0,0.3980099502487562]    |1         |1        |\n",
            "|[25.0,2.0,2.0,34.0,5.0,0.24378109452736318]  |0         |0        |\n",
            "|[25.0,2.0,2.0,11.0,5.0,0.24378109452736318]  |0         |0        |\n",
            "|[25.0,2.0,2.0,11.0,2.0,0.7213930348258706]   |1         |1        |\n",
            "|[25.0,2.0,2.0,36.0,5.0,0.2537313432835821]   |0         |0        |\n",
            "|[25.0,2.0,2.0,23.0,24.0,0.2288557213930348]  |0         |1        |\n",
            "|[25.0,2.0,2.0,23.0,24.0,0.25870646766169153] |0         |1        |\n",
            "|[25.0,2.0,2.0,23.0,1.0,0.6268656716417911]   |1         |1        |\n",
            "|[25.0,2.0,2.0,3.0,0.0,0.30845771144278605]   |0         |0        |\n",
            "|[25.0,2.0,2.0,3.0,0.0,0.5074626865671642]    |1         |1        |\n",
            "|[25.0,2.0,2.0,3.0,33.0,0.40298507462686567]  |1         |1        |\n",
            "|[25.0,2.0,2.0,3.0,10.0,0.4925373134328358]   |1         |0        |\n",
            "|[25.0,2.0,2.0,3.0,9.0,0.4975124378109453]    |1         |1        |\n",
            "|[25.0,2.0,2.0,3.0,22.0,0.24875621890547264]  |0         |0        |\n",
            "|[25.0,2.0,2.0,3.0,22.0,0.472636815920398]    |1         |1        |\n",
            "|[25.0,2.0,2.0,3.0,4.0,0.4577114427860696]    |1         |1        |\n",
            "|[25.0,2.0,2.0,3.0,15.0,0.6368159203980099]   |1         |1        |\n",
            "|[25.0,2.0,2.0,3.0,7.0,0.4129353233830846]    |1         |1        |\n",
            "|[25.0,2.0,2.0,3.0,2.0,0.4228855721393035]    |1         |1        |\n",
            "|[25.0,2.0,2.0,3.0,13.0,0.25870646766169153]  |0         |1        |\n",
            "|[25.0,2.0,2.0,3.0,30.0,0.2736318407960199]   |0         |1        |\n",
            "|[25.0,2.0,2.0,3.0,30.0,0.3034825870646766]   |0         |0        |\n",
            "|[25.0,2.0,2.0,3.0,30.0,0.3333333333333333]   |0         |0        |\n",
            "|[25.0,2.0,2.0,3.0,14.0,0.25870646766169153]  |0         |0        |\n",
            "|[25.0,2.0,2.0,3.0,14.0,0.890547263681592]    |1         |1        |\n",
            "|[25.0,2.0,2.0,3.0,16.0,0.24378109452736318]  |0         |0        |\n",
            "|[25.0,2.0,2.0,3.0,16.0,0.681592039800995]    |1         |1        |\n",
            "|[25.0,2.0,2.0,3.0,36.0,0.2537313432835821]   |0         |0        |\n",
            "|[25.0,2.0,2.0,3.0,50.0,0.527363184079602]    |1         |1        |\n",
            "|[25.0,2.0,2.0,3.0,59.0,0.2736318407960199]   |0         |0        |\n",
            "|[25.0,2.0,2.0,3.0,1.0,0.417910447761194]     |1         |1        |\n",
            "|[25.0,2.0,2.0,3.0,1.0,0.7164179104477612]    |1         |1        |\n",
            "|[25.0,2.0,2.0,3.0,34.0,0.2736318407960199]   |0         |0        |\n",
            "|[25.0,2.0,2.0,3.0,34.0,0.8606965174129353]   |1         |1        |\n",
            "|[25.0,2.0,2.0,3.0,6.0,0.4577114427860696]    |1         |1        |\n",
            "|[25.0,2.0,2.0,3.0,21.0,0.25870646766169153]  |0         |0        |\n",
            "|[25.0,2.0,2.0,3.0,21.0,0.3731343283582089]   |1         |0        |\n",
            "|[25.0,2.0,2.0,3.0,37.0,0.23880597014925373]  |0         |0        |\n",
            "|[25.0,2.0,2.0,3.0,37.0,0.4577114427860696]   |1         |1        |\n",
            "|[25.0,2.0,2.0,3.0,40.0,0.2885572139303483]   |0         |0        |\n",
            "|[25.0,2.0,2.0,3.0,29.0,0.3034825870646766]   |0         |0        |\n",
            "|[25.0,2.0,2.0,3.0,28.0,0.5024875621890548]   |1         |1        |\n",
            "|[25.0,2.0,2.0,3.0,61.0,0.23880597014925373]  |0         |0        |\n",
            "|[25.0,2.0,2.0,3.0,61.0,0.24378109452736318]  |0         |0        |\n",
            "|[25.0,2.0,2.0,14.0,5.0,0.2288557213930348]   |0         |0        |\n",
            "|[25.0,2.0,2.0,14.0,5.0,0.7910447761194029]   |1         |1        |\n",
            "|[25.0,2.0,2.0,10.0,5.0,0.572139303482587]    |1         |1        |\n",
            "|[25.0,2.0,2.0,10.0,5.0,0.7263681592039801]   |1         |1        |\n",
            "|[25.0,2.0,2.0,26.0,5.0,0.5174129353233831]   |1         |1        |\n",
            "|[25.0,2.0,2.0,24.0,24.0,0.38308457711442784] |1         |1        |\n",
            "|[25.0,2.0,2.0,9.0,12.0,0.26865671641791045]  |0         |1        |\n",
            "|[25.0,2.0,2.0,52.0,5.0,0.23383084577114427]  |0         |0        |\n",
            "|[25.0,2.0,2.0,12.0,10.0,0.681592039800995]   |1         |1        |\n",
            "|[25.0,2.0,2.0,12.0,2.0,0.23383084577114427]  |0         |1        |\n",
            "|[25.0,2.0,2.0,12.0,2.0,0.2885572139303483]   |0         |1        |\n",
            "|[25.0,2.0,2.0,12.0,2.0,0.472636815920398]    |1         |1        |\n",
            "|[25.0,2.0,2.0,7.0,12.0,0.25870646766169153]  |0         |0        |\n",
            "|[25.0,2.0,2.0,7.0,1.0,0.5373134328358209]    |1         |1        |\n",
            "|[25.0,2.0,2.0,2.0,22.0,0.2835820895522388]   |0         |0        |\n",
            "|[25.0,2.0,2.0,2.0,5.0,0.5074626865671642]    |1         |1        |\n",
            "+---------------------------------------------+----------+---------+\n",
            "only showing top 100 rows\n",
            "\n"
          ]
        }
      ],
      "execution_count": 16
    },
    {
      "cell_type": "markdown",
      "source": [
        "## Évaluer le modèle\n",
        "\n",
        "### Matrice de confusion\n",
        "Elle calcule le nombre de :\n",
        "- True Positives (TP)\n",
        "- True Negatives (TN)\n",
        "- False Positives (FP)\n",
        "- False Negatives (FN)\n",
        "\n",
        "Plusieurs mesures sont calculées à partir de cette matrice comme :\n",
        "$$precision = \\frac{TP}{TP+FP}$$\n",
        "$$recall(TPR) = \\frac{TP}{TP+FN}$$\n",
        "$$Accuracy = \\frac{TP+TN}{TP+TN+FP+FN}$$"
      ],
      "metadata": {
        "id": "8va0hq9SvVPF"
      }
    },
    {
      "cell_type": "code",
      "source": [
        "tp = float(predicted.filter(\"prediction == 1.0 AND truelabel == 1\").count())\n",
        "fp = float(predicted.filter(\"prediction == 1.0 AND truelabel == 0\").count())\n",
        "tn = float(predicted.filter(\"prediction == 0.0 AND truelabel == 0\").count())\n",
        "fn = float(predicted.filter(\"prediction == 0.0 AND truelabel == 1\").count())\n",
        "metrics = spark.createDataFrame([\n",
        " (\"TP\", tp),\n",
        " (\"FP\", fp),\n",
        " (\"TN\", tn),\n",
        " (\"FN\", fn),\n",
        " (\"Precision\", tp / (tp + fp)),\n",
        " (\"Recall\", tp / (tp + fn))],[\"metric\", \"value\"])\n",
        "metrics.show()"
      ],
      "metadata": {
        "colab": {
          "base_uri": "https://localhost:8080/"
        },
        "id": "5iAzWvPEPpXi",
        "outputId": "8b825856-e776-4de9-99a9-054f6622fd16"
      },
      "execution_count": 17,
      "outputs": [
        {
          "output_type": "stream",
          "name": "stdout",
          "text": [
            "+---------+------------------+\n",
            "|   metric|             value|\n",
            "+---------+------------------+\n",
            "|       TP|           88264.0|\n",
            "|       FP|            7056.0|\n",
            "|       TN|           81755.0|\n",
            "|       FN|           13220.0|\n",
            "|Precision|0.9259756609315988|\n",
            "|   Recall|0.8697331599069804|\n",
            "+---------+------------------+\n",
            "\n"
          ]
        }
      ]
    },
    {
      "cell_type": "markdown",
      "source": [
        "### AUC"
      ],
      "metadata": {
        "id": "PXaWtjckRVgJ"
      }
    },
    {
      "cell_type": "code",
      "source": [
        "from pyspark.ml.evaluation import BinaryClassificationEvaluator\n",
        "evaluator = BinaryClassificationEvaluator(labelCol=\"Late\", rawPredictionCol=\"rawPrediction\", metricName=\"areaUnderROC\")\n",
        "auc = evaluator.evaluate(prediction)\n",
        "print (\"AUC = \", auc)"
      ],
      "metadata": {
        "colab": {
          "base_uri": "https://localhost:8080/"
        },
        "id": "GbiQPar1RYFL",
        "outputId": "ef4630b5-7a54-40b4-bedb-b382b9e45b38"
      },
      "execution_count": 18,
      "outputs": [
        {
          "output_type": "stream",
          "name": "stdout",
          "text": [
            "AUC =  0.9483960616472805\n"
          ]
        }
      ]
    }
  ],
  "metadata": {
    "kernelspec": {
      "display_name": "PySpark",
      "name": "pysparkkernel",
      "language": ""
    },
    "language_info": {
      "mimetype": "text/x-python",
      "pygments_lexer": "python2",
      "name": "pyspark",
      "codemirror_mode": {
        "version": "2",
        "name": "python"
      }
    },
    "name": "Python Pipeline",
    "notebookId": 374219277805845,
    "colab": {
      "provenance": [],
      "include_colab_link": true
    }
  },
  "nbformat": 4,
  "nbformat_minor": 0
}